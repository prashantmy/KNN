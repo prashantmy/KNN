{
 "cells": [
  {
   "cell_type": "code",
   "execution_count": null,
   "metadata": {},
   "outputs": [],
   "source": [
    "#Thanks for clearing my misconception about balanced data\n",
    "# I executed assignment after changes suggested\n",
    "# Here I took 60k sample from database . After removing duplicates and so 54458 samples are remained\n",
    "# Presented confusion matrix using seaborn heatmap\n",
    "# Please guide me range of K for  cross validation? How many values of K to be used for cross validation as it takes to much time\n",
    "# In my case This took around 18 hours to run assignment"
   ]
  },
  {
   "cell_type": "markdown",
   "metadata": {
    "colab_type": "text",
    "id": "4UPJU7FIDYHb"
   },
   "source": [
    "# Amazon Fine Food Reviews Analysis\n",
    "\n",
    "\n",
    "Data Source: https://www.kaggle.com/snap/amazon-fine-food-reviews <br>\n",
    "\n",
    "EDA: https://nycdatascience.com/blog/student-works/amazon-fine-foods-visualization/\n",
    "\n",
    "\n",
    "The Amazon Fine Food Reviews dataset consists of reviews of fine foods from Amazon.<br>\n",
    "\n",
    "Number of reviews: 568,454<br>\n",
    "Number of users: 256,059<br>\n",
    "Number of products: 74,258<br>\n",
    "Timespan: Oct 1999 - Oct 2012<br>\n",
    "Number of Attributes/Columns in data: 10 \n",
    "\n",
    "Attribute Information:\n",
    "\n",
    "1. Id\n",
    "2. ProductId - unique identifier for the product\n",
    "3. UserId - unqiue identifier for the user\n",
    "4. ProfileName\n",
    "5. HelpfulnessNumerator - number of users who found the review helpful\n",
    "6. HelpfulnessDenominator - number of users who indicated whether they found the review helpful or not\n",
    "7. Score - rating between 1 and 5\n",
    "8. Time - timestamp for the review\n",
    "9. Summary - brief summary of the review\n",
    "10. Text - text of the review\n",
    "\n",
    "\n",
    "#### Objective:\n",
    "Given a review, determine whether the review is positive (rating of 4 or 5) or negative (rating of 1 or 2).\n",
    "\n",
    "<br>\n",
    "[Q] How to determine if a review is positive or negative?<br>\n",
    "<br> \n",
    "[Ans] We could use Score/Rating. A rating of 4 or 5 can be cosnidered as a positive review. A rating of 1 or 2 can be considered as negative one. A review of rating 3 is considered nuetral and such reviews are ignored from our analysis. This is an approximate and proxy way of determining the polarity (positivity/negativity) of a review.\n",
    "\n",
    "\n"
   ]
  },
  {
   "cell_type": "markdown",
   "metadata": {
    "colab_type": "text",
    "id": "Iac3VjZcDYHf"
   },
   "source": [
    "# [1]. Reading Data"
   ]
  },
  {
   "cell_type": "markdown",
   "metadata": {
    "colab_type": "text",
    "id": "wEsMRzNDDYHi"
   },
   "source": [
    "## [1.1] Loading the data\n",
    "\n",
    "The dataset is available in two forms\n",
    "1. .csv file\n",
    "2. SQLite Database\n",
    "\n",
    "In order to load the data, We have used the SQLITE dataset as it is easier to query the data and visualise the data efficiently.\n",
    "<br> \n",
    "\n",
    "Here as we only want to get the global sentiment of the recommendations (positive or negative), we will purposefully ignore all Scores equal to 3. If the score is above 3, then the recommendation wil be set to \"positive\". Otherwise, it will be set to \"negative\"."
   ]
  },
  {
   "cell_type": "code",
   "execution_count": 1,
   "metadata": {
    "colab": {},
    "colab_type": "code",
    "id": "ADl9geUvDYHl"
   },
   "outputs": [],
   "source": [
    "%matplotlib inline\n",
    "import warnings\n",
    "warnings.filterwarnings(\"ignore\")\n",
    "\n",
    "\n",
    "import sqlite3\n",
    "import pandas as pd\n",
    "import numpy as np\n",
    "import nltk\n",
    "import string\n",
    "import matplotlib.pyplot as plt\n",
    "import seaborn as sns\n",
    "from sklearn.feature_extraction.text import TfidfTransformer\n",
    "from sklearn.feature_extraction.text import TfidfVectorizer\n",
    "\n",
    "from sklearn.feature_extraction.text import CountVectorizer\n",
    "from sklearn.metrics import confusion_matrix\n",
    "from sklearn import metrics\n",
    "from sklearn.metrics import roc_curve, auc\n",
    "from nltk.stem.porter import PorterStemmer\n",
    "\n",
    "import re\n",
    "# Tutorial about Python regular expressions: https://pymotw.com/2/re/\n",
    "import string\n",
    "from nltk.corpus import stopwords\n",
    "from nltk.stem import PorterStemmer\n",
    "from nltk.stem.wordnet import WordNetLemmatizer\n",
    "\n",
    "from gensim.models import Word2Vec\n",
    "from gensim.models import KeyedVectors\n",
    "import pickle\n",
    "\n",
    "from tqdm import tqdm\n",
    "import os\n",
    "#print(os.getcwd())"
   ]
  },
  {
   "cell_type": "code",
   "execution_count": 2,
   "metadata": {
    "colab": {},
    "colab_type": "code",
    "id": "9pO69buUDYHz",
    "outputId": "00371235-7840-4a31-be63-4945d6cbbb2e"
   },
   "outputs": [
    {
     "name": "stdout",
     "output_type": "stream",
     "text": [
      "Number of data points in our data (60000, 10)\n"
     ]
    },
    {
     "data": {
      "text/html": [
       "<div>\n",
       "<style scoped>\n",
       "    .dataframe tbody tr th:only-of-type {\n",
       "        vertical-align: middle;\n",
       "    }\n",
       "\n",
       "    .dataframe tbody tr th {\n",
       "        vertical-align: top;\n",
       "    }\n",
       "\n",
       "    .dataframe thead th {\n",
       "        text-align: right;\n",
       "    }\n",
       "</style>\n",
       "<table border=\"1\" class=\"dataframe\">\n",
       "  <thead>\n",
       "    <tr style=\"text-align: right;\">\n",
       "      <th></th>\n",
       "      <th>Id</th>\n",
       "      <th>ProductId</th>\n",
       "      <th>UserId</th>\n",
       "      <th>ProfileName</th>\n",
       "      <th>HelpfulnessNumerator</th>\n",
       "      <th>HelpfulnessDenominator</th>\n",
       "      <th>Score</th>\n",
       "      <th>Time</th>\n",
       "      <th>Summary</th>\n",
       "      <th>Text</th>\n",
       "    </tr>\n",
       "  </thead>\n",
       "  <tbody>\n",
       "    <tr>\n",
       "      <th>0</th>\n",
       "      <td>1</td>\n",
       "      <td>B001E4KFG0</td>\n",
       "      <td>A3SGXH7AUHU8GW</td>\n",
       "      <td>delmartian</td>\n",
       "      <td>1</td>\n",
       "      <td>1</td>\n",
       "      <td>1</td>\n",
       "      <td>1303862400</td>\n",
       "      <td>Good Quality Dog Food</td>\n",
       "      <td>I have bought several of the Vitality canned d...</td>\n",
       "    </tr>\n",
       "    <tr>\n",
       "      <th>1</th>\n",
       "      <td>2</td>\n",
       "      <td>B00813GRG4</td>\n",
       "      <td>A1D87F6ZCVE5NK</td>\n",
       "      <td>dll pa</td>\n",
       "      <td>0</td>\n",
       "      <td>0</td>\n",
       "      <td>0</td>\n",
       "      <td>1346976000</td>\n",
       "      <td>Not as Advertised</td>\n",
       "      <td>Product arrived labeled as Jumbo Salted Peanut...</td>\n",
       "    </tr>\n",
       "    <tr>\n",
       "      <th>2</th>\n",
       "      <td>3</td>\n",
       "      <td>B000LQOCH0</td>\n",
       "      <td>ABXLMWJIXXAIN</td>\n",
       "      <td>Natalia Corres \"Natalia Corres\"</td>\n",
       "      <td>1</td>\n",
       "      <td>1</td>\n",
       "      <td>1</td>\n",
       "      <td>1219017600</td>\n",
       "      <td>\"Delight\" says it all</td>\n",
       "      <td>This is a confection that has been around a fe...</td>\n",
       "    </tr>\n",
       "  </tbody>\n",
       "</table>\n",
       "</div>"
      ],
      "text/plain": [
       "   Id   ProductId          UserId                      ProfileName  \\\n",
       "0   1  B001E4KFG0  A3SGXH7AUHU8GW                       delmartian   \n",
       "1   2  B00813GRG4  A1D87F6ZCVE5NK                           dll pa   \n",
       "2   3  B000LQOCH0   ABXLMWJIXXAIN  Natalia Corres \"Natalia Corres\"   \n",
       "\n",
       "   HelpfulnessNumerator  HelpfulnessDenominator  Score        Time  \\\n",
       "0                     1                       1      1  1303862400   \n",
       "1                     0                       0      0  1346976000   \n",
       "2                     1                       1      1  1219017600   \n",
       "\n",
       "                 Summary                                               Text  \n",
       "0  Good Quality Dog Food  I have bought several of the Vitality canned d...  \n",
       "1      Not as Advertised  Product arrived labeled as Jumbo Salted Peanut...  \n",
       "2  \"Delight\" says it all  This is a confection that has been around a fe...  "
      ]
     },
     "execution_count": 2,
     "metadata": {},
     "output_type": "execute_result"
    }
   ],
   "source": [
    "# using SQLite Table to read data.\n",
    "con = sqlite3.connect('database.sqlite') \n",
    "\n",
    "# filtering only positive and negative reviews i.e. \n",
    "# not taking into consideration those reviews with Score=3\n",
    "# SELECT * FROM Reviews WHERE Score != 3 LIMIT 500000, will give top 500000 data points\n",
    "# you can change the number to any other number based on your computing power\n",
    "\n",
    "# filtered_data = pd.read_sql_query(\"\"\" SELECT * FROM Reviews WHERE Score != 3 LIMIT 500000\"\"\", con) \n",
    "# for tsne assignment you can take 5k data points\n",
    "\n",
    "filtered_data = pd.read_sql_query(\"\"\" SELECT * FROM Reviews WHERE Score != 3 LIMIT 60000\"\"\", con) \n",
    "\n",
    "# Give reviews with Score>3 a positive rating(1), and reviews with a score<3 a negative rating(0).\n",
    "def partition(x):\n",
    "    if x < 3:\n",
    "        return 0\n",
    "    return 1\n",
    "\n",
    "#changing reviews with score less than 3 to be positive and vice-versa\n",
    "actualScore = filtered_data['Score']\n",
    "positiveNegative = actualScore.map(partition) \n",
    "filtered_data['Score'] = positiveNegative\n",
    "print(\"Number of data points in our data\", filtered_data.shape)\n",
    "filtered_data.head(3)"
   ]
  },
  {
   "cell_type": "code",
   "execution_count": 4,
   "metadata": {
    "colab": {},
    "colab_type": "code",
    "id": "bDrGXaolDYIH"
   },
   "outputs": [],
   "source": [
    "display = pd.read_sql_query(\"\"\"\n",
    "SELECT UserId, ProductId, ProfileName, Time, Score, Text, COUNT(*)\n",
    "FROM Reviews\n",
    "GROUP BY UserId\n",
    "HAVING COUNT(*)>1\n",
    "\"\"\", con)"
   ]
  },
  {
   "cell_type": "code",
   "execution_count": 5,
   "metadata": {
    "colab": {},
    "colab_type": "code",
    "id": "Jj-M3g0FDYIj",
    "outputId": "2c700ad5-02ad-4f43-a532-fb847609043e",
    "scrolled": true
   },
   "outputs": [
    {
     "name": "stdout",
     "output_type": "stream",
     "text": [
      "(80668, 7)\n"
     ]
    },
    {
     "data": {
      "text/html": [
       "<div>\n",
       "<style scoped>\n",
       "    .dataframe tbody tr th:only-of-type {\n",
       "        vertical-align: middle;\n",
       "    }\n",
       "\n",
       "    .dataframe tbody tr th {\n",
       "        vertical-align: top;\n",
       "    }\n",
       "\n",
       "    .dataframe thead th {\n",
       "        text-align: right;\n",
       "    }\n",
       "</style>\n",
       "<table border=\"1\" class=\"dataframe\">\n",
       "  <thead>\n",
       "    <tr style=\"text-align: right;\">\n",
       "      <th></th>\n",
       "      <th>UserId</th>\n",
       "      <th>ProductId</th>\n",
       "      <th>ProfileName</th>\n",
       "      <th>Time</th>\n",
       "      <th>Score</th>\n",
       "      <th>Text</th>\n",
       "      <th>COUNT(*)</th>\n",
       "    </tr>\n",
       "  </thead>\n",
       "  <tbody>\n",
       "    <tr>\n",
       "      <th>0</th>\n",
       "      <td>#oc-R115TNMSPFT9I7</td>\n",
       "      <td>B005ZBZLT4</td>\n",
       "      <td>Breyton</td>\n",
       "      <td>1331510400</td>\n",
       "      <td>2</td>\n",
       "      <td>Overall its just OK when considering the price...</td>\n",
       "      <td>2</td>\n",
       "    </tr>\n",
       "    <tr>\n",
       "      <th>1</th>\n",
       "      <td>#oc-R11D9D7SHXIJB9</td>\n",
       "      <td>B005HG9ESG</td>\n",
       "      <td>Louis E. Emory \"hoppy\"</td>\n",
       "      <td>1342396800</td>\n",
       "      <td>5</td>\n",
       "      <td>My wife has recurring extreme muscle spasms, u...</td>\n",
       "      <td>3</td>\n",
       "    </tr>\n",
       "    <tr>\n",
       "      <th>2</th>\n",
       "      <td>#oc-R11DNU2NBKQ23Z</td>\n",
       "      <td>B005ZBZLT4</td>\n",
       "      <td>Kim Cieszykowski</td>\n",
       "      <td>1348531200</td>\n",
       "      <td>1</td>\n",
       "      <td>This coffee is horrible and unfortunately not ...</td>\n",
       "      <td>2</td>\n",
       "    </tr>\n",
       "    <tr>\n",
       "      <th>3</th>\n",
       "      <td>#oc-R11O5J5ZVQE25C</td>\n",
       "      <td>B005HG9ESG</td>\n",
       "      <td>Penguin Chick</td>\n",
       "      <td>1346889600</td>\n",
       "      <td>5</td>\n",
       "      <td>This will be the bottle that you grab from the...</td>\n",
       "      <td>3</td>\n",
       "    </tr>\n",
       "    <tr>\n",
       "      <th>4</th>\n",
       "      <td>#oc-R12KPBODL2B5ZD</td>\n",
       "      <td>B007OSBEV0</td>\n",
       "      <td>Christopher P. Presta</td>\n",
       "      <td>1348617600</td>\n",
       "      <td>1</td>\n",
       "      <td>I didnt like this coffee. Instead of telling y...</td>\n",
       "      <td>2</td>\n",
       "    </tr>\n",
       "  </tbody>\n",
       "</table>\n",
       "</div>"
      ],
      "text/plain": [
       "               UserId   ProductId             ProfileName        Time  Score  \\\n",
       "0  #oc-R115TNMSPFT9I7  B005ZBZLT4                 Breyton  1331510400      2   \n",
       "1  #oc-R11D9D7SHXIJB9  B005HG9ESG  Louis E. Emory \"hoppy\"  1342396800      5   \n",
       "2  #oc-R11DNU2NBKQ23Z  B005ZBZLT4        Kim Cieszykowski  1348531200      1   \n",
       "3  #oc-R11O5J5ZVQE25C  B005HG9ESG           Penguin Chick  1346889600      5   \n",
       "4  #oc-R12KPBODL2B5ZD  B007OSBEV0   Christopher P. Presta  1348617600      1   \n",
       "\n",
       "                                                Text  COUNT(*)  \n",
       "0  Overall its just OK when considering the price...         2  \n",
       "1  My wife has recurring extreme muscle spasms, u...         3  \n",
       "2  This coffee is horrible and unfortunately not ...         2  \n",
       "3  This will be the bottle that you grab from the...         3  \n",
       "4  I didnt like this coffee. Instead of telling y...         2  "
      ]
     },
     "execution_count": 5,
     "metadata": {},
     "output_type": "execute_result"
    }
   ],
   "source": [
    "print(display.shape)\n",
    "display.head()"
   ]
  },
  {
   "cell_type": "code",
   "execution_count": 6,
   "metadata": {
    "colab": {},
    "colab_type": "code",
    "id": "eAG-AQpWDYIx",
    "outputId": "889e7973-47ab-423b-fd10-ee5058498ad0"
   },
   "outputs": [
    {
     "data": {
      "text/html": [
       "<div>\n",
       "<style scoped>\n",
       "    .dataframe tbody tr th:only-of-type {\n",
       "        vertical-align: middle;\n",
       "    }\n",
       "\n",
       "    .dataframe tbody tr th {\n",
       "        vertical-align: top;\n",
       "    }\n",
       "\n",
       "    .dataframe thead th {\n",
       "        text-align: right;\n",
       "    }\n",
       "</style>\n",
       "<table border=\"1\" class=\"dataframe\">\n",
       "  <thead>\n",
       "    <tr style=\"text-align: right;\">\n",
       "      <th></th>\n",
       "      <th>UserId</th>\n",
       "      <th>ProductId</th>\n",
       "      <th>ProfileName</th>\n",
       "      <th>Time</th>\n",
       "      <th>Score</th>\n",
       "      <th>Text</th>\n",
       "      <th>COUNT(*)</th>\n",
       "    </tr>\n",
       "  </thead>\n",
       "  <tbody>\n",
       "    <tr>\n",
       "      <th>80638</th>\n",
       "      <td>AZY10LLTJ71NX</td>\n",
       "      <td>B001ATMQK2</td>\n",
       "      <td>undertheshrine \"undertheshrine\"</td>\n",
       "      <td>1296691200</td>\n",
       "      <td>5</td>\n",
       "      <td>I bought this 6 pack because for the price tha...</td>\n",
       "      <td>5</td>\n",
       "    </tr>\n",
       "  </tbody>\n",
       "</table>\n",
       "</div>"
      ],
      "text/plain": [
       "              UserId   ProductId                      ProfileName        Time  \\\n",
       "80638  AZY10LLTJ71NX  B001ATMQK2  undertheshrine \"undertheshrine\"  1296691200   \n",
       "\n",
       "       Score                                               Text  COUNT(*)  \n",
       "80638      5  I bought this 6 pack because for the price tha...         5  "
      ]
     },
     "execution_count": 6,
     "metadata": {},
     "output_type": "execute_result"
    }
   ],
   "source": [
    "display[display['UserId']=='AZY10LLTJ71NX']"
   ]
  },
  {
   "cell_type": "code",
   "execution_count": 7,
   "metadata": {
    "colab": {},
    "colab_type": "code",
    "id": "3qBpPZKaDYI7",
    "outputId": "375dd0be-186a-4b00-8594-06fb20ded08a"
   },
   "outputs": [
    {
     "data": {
      "text/plain": [
       "393063"
      ]
     },
     "execution_count": 7,
     "metadata": {},
     "output_type": "execute_result"
    }
   ],
   "source": [
    "display['COUNT(*)'].sum()"
   ]
  },
  {
   "cell_type": "markdown",
   "metadata": {
    "colab_type": "text",
    "id": "G1rTdPsqDYJI"
   },
   "source": [
    "#  [2] Exploratory Data Analysis"
   ]
  },
  {
   "cell_type": "markdown",
   "metadata": {
    "colab_type": "text",
    "id": "Wh5RH-NsDYJJ"
   },
   "source": [
    "## [2.1] Data Cleaning: Deduplication\n",
    "\n",
    "It is observed (as shown in the table below) that the reviews data had many duplicate entries. Hence it was necessary to remove duplicates in order to get unbiased results for the analysis of the data.  Following is an example:"
   ]
  },
  {
   "cell_type": "code",
   "execution_count": 8,
   "metadata": {
    "colab": {},
    "colab_type": "code",
    "id": "EUF69tvsDYJO",
    "outputId": "d08434a0-b58a-4d4a-db71-729bbb1539e5",
    "scrolled": false
   },
   "outputs": [
    {
     "data": {
      "text/html": [
       "<div>\n",
       "<style scoped>\n",
       "    .dataframe tbody tr th:only-of-type {\n",
       "        vertical-align: middle;\n",
       "    }\n",
       "\n",
       "    .dataframe tbody tr th {\n",
       "        vertical-align: top;\n",
       "    }\n",
       "\n",
       "    .dataframe thead th {\n",
       "        text-align: right;\n",
       "    }\n",
       "</style>\n",
       "<table border=\"1\" class=\"dataframe\">\n",
       "  <thead>\n",
       "    <tr style=\"text-align: right;\">\n",
       "      <th></th>\n",
       "      <th>Id</th>\n",
       "      <th>ProductId</th>\n",
       "      <th>UserId</th>\n",
       "      <th>ProfileName</th>\n",
       "      <th>HelpfulnessNumerator</th>\n",
       "      <th>HelpfulnessDenominator</th>\n",
       "      <th>Score</th>\n",
       "      <th>Time</th>\n",
       "      <th>Summary</th>\n",
       "      <th>Text</th>\n",
       "    </tr>\n",
       "  </thead>\n",
       "  <tbody>\n",
       "    <tr>\n",
       "      <th>0</th>\n",
       "      <td>78445</td>\n",
       "      <td>B000HDL1RQ</td>\n",
       "      <td>AR5J8UI46CURR</td>\n",
       "      <td>Geetha Krishnan</td>\n",
       "      <td>2</td>\n",
       "      <td>2</td>\n",
       "      <td>5</td>\n",
       "      <td>1199577600</td>\n",
       "      <td>LOACKER QUADRATINI VANILLA WAFERS</td>\n",
       "      <td>DELICIOUS WAFERS. I FIND THAT EUROPEAN WAFERS ...</td>\n",
       "    </tr>\n",
       "    <tr>\n",
       "      <th>1</th>\n",
       "      <td>138317</td>\n",
       "      <td>B000HDOPYC</td>\n",
       "      <td>AR5J8UI46CURR</td>\n",
       "      <td>Geetha Krishnan</td>\n",
       "      <td>2</td>\n",
       "      <td>2</td>\n",
       "      <td>5</td>\n",
       "      <td>1199577600</td>\n",
       "      <td>LOACKER QUADRATINI VANILLA WAFERS</td>\n",
       "      <td>DELICIOUS WAFERS. I FIND THAT EUROPEAN WAFERS ...</td>\n",
       "    </tr>\n",
       "    <tr>\n",
       "      <th>2</th>\n",
       "      <td>138277</td>\n",
       "      <td>B000HDOPYM</td>\n",
       "      <td>AR5J8UI46CURR</td>\n",
       "      <td>Geetha Krishnan</td>\n",
       "      <td>2</td>\n",
       "      <td>2</td>\n",
       "      <td>5</td>\n",
       "      <td>1199577600</td>\n",
       "      <td>LOACKER QUADRATINI VANILLA WAFERS</td>\n",
       "      <td>DELICIOUS WAFERS. I FIND THAT EUROPEAN WAFERS ...</td>\n",
       "    </tr>\n",
       "    <tr>\n",
       "      <th>3</th>\n",
       "      <td>73791</td>\n",
       "      <td>B000HDOPZG</td>\n",
       "      <td>AR5J8UI46CURR</td>\n",
       "      <td>Geetha Krishnan</td>\n",
       "      <td>2</td>\n",
       "      <td>2</td>\n",
       "      <td>5</td>\n",
       "      <td>1199577600</td>\n",
       "      <td>LOACKER QUADRATINI VANILLA WAFERS</td>\n",
       "      <td>DELICIOUS WAFERS. I FIND THAT EUROPEAN WAFERS ...</td>\n",
       "    </tr>\n",
       "    <tr>\n",
       "      <th>4</th>\n",
       "      <td>155049</td>\n",
       "      <td>B000PAQ75C</td>\n",
       "      <td>AR5J8UI46CURR</td>\n",
       "      <td>Geetha Krishnan</td>\n",
       "      <td>2</td>\n",
       "      <td>2</td>\n",
       "      <td>5</td>\n",
       "      <td>1199577600</td>\n",
       "      <td>LOACKER QUADRATINI VANILLA WAFERS</td>\n",
       "      <td>DELICIOUS WAFERS. I FIND THAT EUROPEAN WAFERS ...</td>\n",
       "    </tr>\n",
       "  </tbody>\n",
       "</table>\n",
       "</div>"
      ],
      "text/plain": [
       "       Id   ProductId         UserId      ProfileName  HelpfulnessNumerator  \\\n",
       "0   78445  B000HDL1RQ  AR5J8UI46CURR  Geetha Krishnan                     2   \n",
       "1  138317  B000HDOPYC  AR5J8UI46CURR  Geetha Krishnan                     2   \n",
       "2  138277  B000HDOPYM  AR5J8UI46CURR  Geetha Krishnan                     2   \n",
       "3   73791  B000HDOPZG  AR5J8UI46CURR  Geetha Krishnan                     2   \n",
       "4  155049  B000PAQ75C  AR5J8UI46CURR  Geetha Krishnan                     2   \n",
       "\n",
       "   HelpfulnessDenominator  Score        Time  \\\n",
       "0                       2      5  1199577600   \n",
       "1                       2      5  1199577600   \n",
       "2                       2      5  1199577600   \n",
       "3                       2      5  1199577600   \n",
       "4                       2      5  1199577600   \n",
       "\n",
       "                             Summary  \\\n",
       "0  LOACKER QUADRATINI VANILLA WAFERS   \n",
       "1  LOACKER QUADRATINI VANILLA WAFERS   \n",
       "2  LOACKER QUADRATINI VANILLA WAFERS   \n",
       "3  LOACKER QUADRATINI VANILLA WAFERS   \n",
       "4  LOACKER QUADRATINI VANILLA WAFERS   \n",
       "\n",
       "                                                Text  \n",
       "0  DELICIOUS WAFERS. I FIND THAT EUROPEAN WAFERS ...  \n",
       "1  DELICIOUS WAFERS. I FIND THAT EUROPEAN WAFERS ...  \n",
       "2  DELICIOUS WAFERS. I FIND THAT EUROPEAN WAFERS ...  \n",
       "3  DELICIOUS WAFERS. I FIND THAT EUROPEAN WAFERS ...  \n",
       "4  DELICIOUS WAFERS. I FIND THAT EUROPEAN WAFERS ...  "
      ]
     },
     "execution_count": 8,
     "metadata": {},
     "output_type": "execute_result"
    }
   ],
   "source": [
    "display= pd.read_sql_query(\"\"\"\n",
    "SELECT *\n",
    "FROM Reviews\n",
    "WHERE Score != 3 AND UserId=\"AR5J8UI46CURR\"\n",
    "ORDER BY ProductID\n",
    "\"\"\", con)\n",
    "display.head()"
   ]
  },
  {
   "cell_type": "markdown",
   "metadata": {
    "colab_type": "text",
    "id": "cKrGPQEfDYJW"
   },
   "source": [
    "As it can be seen above that same user has multiple reviews with same values for HelpfulnessNumerator, HelpfulnessDenominator, Score, Time, Summary and Text and on doing analysis it was found that <br>\n",
    "<br> \n",
    "ProductId=B000HDOPZG was Loacker Quadratini Vanilla Wafer Cookies, 8.82-Ounce Packages (Pack of 8)<br>\n",
    "<br> \n",
    "ProductId=B000HDL1RQ was Loacker Quadratini Lemon Wafer Cookies, 8.82-Ounce Packages (Pack of 8) and so on<br>\n",
    "\n",
    "It was inferred after analysis that reviews with same parameters other than ProductId belonged to the same product just having different flavour or quantity. Hence in order to reduce redundancy it was decided to eliminate the rows having same parameters.<br>\n",
    "\n",
    "The method used for the same was that we first sort the data according to ProductId and then just keep the first similar product review and delelte the others. for eg. in the above just the review for ProductId=B000HDL1RQ remains. This method ensures that there is only one representative for each product and deduplication without sorting would lead to possibility of different representatives still existing for the same product."
   ]
  },
  {
   "cell_type": "code",
   "execution_count": 9,
   "metadata": {
    "colab": {},
    "colab_type": "code",
    "id": "eQWrz1nFDYJX"
   },
   "outputs": [],
   "source": [
    "#Sorting data according to ProductId in ascending order\n",
    "sorted_data=filtered_data.sort_values('ProductId', axis=0, ascending=True, inplace=False, kind='quicksort', na_position='last')"
   ]
  },
  {
   "cell_type": "code",
   "execution_count": 10,
   "metadata": {
    "colab": {},
    "colab_type": "code",
    "id": "4CS7fUdLDYJd",
    "outputId": "6fa1310c-c733-4bb5-9b0a-cbb72b05e086"
   },
   "outputs": [
    {
     "data": {
      "text/plain": [
       "(54458, 10)"
      ]
     },
     "execution_count": 10,
     "metadata": {},
     "output_type": "execute_result"
    }
   ],
   "source": [
    "#Deduplication of entries\n",
    "final=sorted_data.drop_duplicates(subset={\"UserId\",\"ProfileName\",\"Time\",\"Text\"}, keep='first', inplace=False)\n",
    "final.shape"
   ]
  },
  {
   "cell_type": "code",
   "execution_count": 11,
   "metadata": {
    "colab": {},
    "colab_type": "code",
    "id": "Hcc_-CJMDYJk",
    "outputId": "8490fe52-8d00-4196-d0f4-5718b54f10e8"
   },
   "outputs": [
    {
     "data": {
      "text/plain": [
       "90.76333333333334"
      ]
     },
     "execution_count": 11,
     "metadata": {},
     "output_type": "execute_result"
    }
   ],
   "source": [
    "#Checking to see how much % of data still remains\n",
    "(final['Id'].size*1.0)/(filtered_data['Id'].size*1.0)*100"
   ]
  },
  {
   "cell_type": "markdown",
   "metadata": {
    "colab_type": "text",
    "id": "engwR6VNDYJq"
   },
   "source": [
    "<b>Observation:-</b> It was also seen that in two rows given below the value of HelpfulnessNumerator is greater than HelpfulnessDenominator which is not practically possible hence these two rows too are removed from calcualtions"
   ]
  },
  {
   "cell_type": "code",
   "execution_count": 12,
   "metadata": {
    "colab": {},
    "colab_type": "code",
    "id": "hjN7-OL_DYJt",
    "outputId": "5e4c5f88-4f27-42ca-e378-04cbc8e8d8d9"
   },
   "outputs": [
    {
     "data": {
      "text/html": [
       "<div>\n",
       "<style scoped>\n",
       "    .dataframe tbody tr th:only-of-type {\n",
       "        vertical-align: middle;\n",
       "    }\n",
       "\n",
       "    .dataframe tbody tr th {\n",
       "        vertical-align: top;\n",
       "    }\n",
       "\n",
       "    .dataframe thead th {\n",
       "        text-align: right;\n",
       "    }\n",
       "</style>\n",
       "<table border=\"1\" class=\"dataframe\">\n",
       "  <thead>\n",
       "    <tr style=\"text-align: right;\">\n",
       "      <th></th>\n",
       "      <th>Id</th>\n",
       "      <th>ProductId</th>\n",
       "      <th>UserId</th>\n",
       "      <th>ProfileName</th>\n",
       "      <th>HelpfulnessNumerator</th>\n",
       "      <th>HelpfulnessDenominator</th>\n",
       "      <th>Score</th>\n",
       "      <th>Time</th>\n",
       "      <th>Summary</th>\n",
       "      <th>Text</th>\n",
       "    </tr>\n",
       "  </thead>\n",
       "  <tbody>\n",
       "    <tr>\n",
       "      <th>0</th>\n",
       "      <td>64422</td>\n",
       "      <td>B000MIDROQ</td>\n",
       "      <td>A161DK06JJMCYF</td>\n",
       "      <td>J. E. Stephens \"Jeanne\"</td>\n",
       "      <td>3</td>\n",
       "      <td>1</td>\n",
       "      <td>5</td>\n",
       "      <td>1224892800</td>\n",
       "      <td>Bought This for My Son at College</td>\n",
       "      <td>My son loves spaghetti so I didn't hesitate or...</td>\n",
       "    </tr>\n",
       "    <tr>\n",
       "      <th>1</th>\n",
       "      <td>44737</td>\n",
       "      <td>B001EQ55RW</td>\n",
       "      <td>A2V0I904FH7ABY</td>\n",
       "      <td>Ram</td>\n",
       "      <td>3</td>\n",
       "      <td>2</td>\n",
       "      <td>4</td>\n",
       "      <td>1212883200</td>\n",
       "      <td>Pure cocoa taste with crunchy almonds inside</td>\n",
       "      <td>It was almost a 'love at first bite' - the per...</td>\n",
       "    </tr>\n",
       "  </tbody>\n",
       "</table>\n",
       "</div>"
      ],
      "text/plain": [
       "      Id   ProductId          UserId              ProfileName  \\\n",
       "0  64422  B000MIDROQ  A161DK06JJMCYF  J. E. Stephens \"Jeanne\"   \n",
       "1  44737  B001EQ55RW  A2V0I904FH7ABY                      Ram   \n",
       "\n",
       "   HelpfulnessNumerator  HelpfulnessDenominator  Score        Time  \\\n",
       "0                     3                       1      5  1224892800   \n",
       "1                     3                       2      4  1212883200   \n",
       "\n",
       "                                        Summary  \\\n",
       "0             Bought This for My Son at College   \n",
       "1  Pure cocoa taste with crunchy almonds inside   \n",
       "\n",
       "                                                Text  \n",
       "0  My son loves spaghetti so I didn't hesitate or...  \n",
       "1  It was almost a 'love at first bite' - the per...  "
      ]
     },
     "execution_count": 12,
     "metadata": {},
     "output_type": "execute_result"
    }
   ],
   "source": [
    "display= pd.read_sql_query(\"\"\"\n",
    "SELECT *\n",
    "FROM Reviews\n",
    "WHERE Score != 3 AND Id=44737 OR Id=64422\n",
    "ORDER BY ProductID\n",
    "\"\"\", con)\n",
    "\n",
    "display.head()"
   ]
  },
  {
   "cell_type": "code",
   "execution_count": 13,
   "metadata": {
    "colab": {},
    "colab_type": "code",
    "id": "Ezix6kJ_DYJ3"
   },
   "outputs": [],
   "source": [
    "final=final[final.HelpfulnessNumerator<=final.HelpfulnessDenominator]"
   ]
  },
  {
   "cell_type": "code",
   "execution_count": 14,
   "metadata": {
    "colab": {},
    "colab_type": "code",
    "id": "yWsVhvArDYJ9",
    "outputId": "0fd8ea32-ce27-4232-a7f1-880eb06ca956"
   },
   "outputs": [
    {
     "name": "stdout",
     "output_type": "stream",
     "text": [
      "(54456, 10)\n"
     ]
    },
    {
     "data": {
      "text/plain": [
       "1    45572\n",
       "0     8884\n",
       "Name: Score, dtype: int64"
      ]
     },
     "execution_count": 14,
     "metadata": {},
     "output_type": "execute_result"
    }
   ],
   "source": [
    "#Before starting the next phase of preprocessing lets see the number of entries left\n",
    "print(final.shape)\n",
    "\n",
    "#How many positive and negative reviews are present in our dataset?\n",
    "final['Score'].value_counts()"
   ]
  },
  {
   "cell_type": "markdown",
   "metadata": {
    "colab_type": "text",
    "id": "AoLxCQ-VDYKI"
   },
   "source": [
    "#  [3] Preprocessing"
   ]
  },
  {
   "cell_type": "markdown",
   "metadata": {
    "colab_type": "text",
    "id": "P7Zq_ToqDYKJ"
   },
   "source": [
    "## [3.1].  Preprocessing Review Text\n",
    "\n",
    "Now that we have finished deduplication our data requires some preprocessing before we go on further with analysis and making the prediction model.\n",
    "\n",
    "Hence in the Preprocessing phase we do the following in the order below:-\n",
    "\n",
    "1. Begin by removing the html tags\n",
    "2. Remove any punctuations or limited set of special characters like , or . or # etc.\n",
    "3. Check if the word is made up of english letters and is not alpha-numeric\n",
    "4. Check to see if the length of the word is greater than 2 (as it was researched that there is no adjective in 2-letters)\n",
    "5. Convert the word to lowercase\n",
    "6. Remove Stopwords\n",
    "7. Finally Snowball Stemming the word (it was obsereved to be better than Porter Stemming)<br>\n",
    "\n",
    "After which we collect the words used to describe positive and negative reviews"
   ]
  },
  {
   "cell_type": "code",
   "execution_count": 15,
   "metadata": {
    "colab": {},
    "colab_type": "code",
    "id": "3jw5g5yEDYKL",
    "outputId": "06d7bd61-438f-4319-a9f7-ecb2312f3dec"
   },
   "outputs": [
    {
     "name": "stdout",
     "output_type": "stream",
     "text": [
      "Our dogs just love them.  I saw them in a pet store and a tag was attached regarding them being made in China and it satisfied me that they were safe.\n",
      "==================================================\n",
      "My whole family loves this sauce. I use it primarily to recreate a dish we had in Maui. It adds a wonderful sweet and spicy flavor to just about any sauce. Service on this order was spectacular. Several bottles arrived broken and replacements were received within days. Amazon service was fast, easy and reliable. I love Amazon. Also, there are many recipes that you can look up using this sauce that a very good. It goes spectaculary with coconut milk, vegetables, chicken or shrimp and pasta. We love it.\n",
      "==================================================\n",
      "My husband is a paraplegic and was having UTIs constantly.  Since he started drinking a cup of this tea every morning, he hasn't had a UTI for a year.\n",
      "==================================================\n",
      "THIS BREAD MIX IS THE CLOSEST THING TO REGULAR BREAD I HAVE FOUND. EASY TO MAKE IN MY BREAD MACHINE.\n",
      "==================================================\n"
     ]
    }
   ],
   "source": [
    "# printing some random reviews\n",
    "sent_0 = final['Text'].values[0]\n",
    "print(sent_0)\n",
    "print(\"=\"*50)\n",
    "\n",
    "\n",
    "sent_1000 = final['Text'].values[1000]\n",
    "print(sent_1000)\n",
    "print(\"=\"*50)\n",
    "\n",
    "sent_1500 = final['Text'].values[1500]\n",
    "print(sent_1500)\n",
    "print(\"=\"*50)\n",
    "\n",
    "sent_4900 = final['Text'].values[4900]\n",
    "print(sent_4900)\n",
    "print(\"=\"*50)"
   ]
  },
  {
   "cell_type": "code",
   "execution_count": 16,
   "metadata": {
    "colab": {},
    "colab_type": "code",
    "id": "WloiOvL3DYKT",
    "outputId": "0a0a8f4b-1999-467d-ea4e-06c5280d3c17"
   },
   "outputs": [
    {
     "name": "stdout",
     "output_type": "stream",
     "text": [
      "Our dogs just love them.  I saw them in a pet store and a tag was attached regarding them being made in China and it satisfied me that they were safe.\n"
     ]
    }
   ],
   "source": [
    "# remove urls from text python: https://stackoverflow.com/a/40823105/4084039\n",
    "sent_0 = re.sub(r\"http\\S+\", \"\", sent_0)\n",
    "#sent_1000 = re.sub(r\"http\\S+\", \"\", sent_1000)\n",
    "#sent_150 = re.sub(r\"http\\S+\", \"\", sent_1500)\n",
    "#sent_4900 = re.sub(r\"http\\S+\", \"\", sent_4900)\n",
    "\n",
    "print(sent_0)"
   ]
  },
  {
   "cell_type": "code",
   "execution_count": 16,
   "metadata": {
    "colab": {},
    "colab_type": "code",
    "id": "vQ2mdt2jDYKo"
   },
   "outputs": [],
   "source": [
    "# https://stackoverflow.com/a/47091490/4084039\n",
    "import re\n",
    "\n",
    "def decontracted(phrase):\n",
    "    # specific\n",
    "    phrase = re.sub(r\"won't\", \"will not\", phrase)\n",
    "    phrase = re.sub(r\"can\\'t\", \"can not\", phrase)\n",
    "\n",
    "    # general\n",
    "    phrase = re.sub(r\"n\\'t\", \" not\", phrase)\n",
    "    phrase = re.sub(r\"\\'re\", \" are\", phrase)\n",
    "    phrase = re.sub(r\"\\'s\", \" is\", phrase)\n",
    "    phrase = re.sub(r\"\\'d\", \" would\", phrase)\n",
    "    phrase = re.sub(r\"\\'ll\", \" will\", phrase)\n",
    "    phrase = re.sub(r\"\\'t\", \" not\", phrase)\n",
    "    phrase = re.sub(r\"\\'ve\", \" have\", phrase)\n",
    "    phrase = re.sub(r\"\\'m\", \" am\", phrase)\n",
    "    return phrase"
   ]
  },
  {
   "cell_type": "code",
   "execution_count": 17,
   "metadata": {
    "colab": {},
    "colab_type": "code",
    "id": "vZJNhKvKDYLA"
   },
   "outputs": [],
   "source": [
    "# https://gist.github.com/sebleier/554280\n",
    "# we are removing the words from the stop words list: 'no', 'nor', 'not'\n",
    "# <br /><br /> ==> after the above steps, we are getting \"br br\"\n",
    "# we are including them into stop words list\n",
    "# instead of <br /> if we have <br/> these tags would have revmoved in the 1st step\n",
    "\n",
    "stopwords= set(['br', 'the', 'i', 'me', 'my', 'myself', 'we', 'our', 'ours', 'ourselves', 'you', \"you're\", \"you've\",\\\n",
    "            \"you'll\", \"you'd\", 'your', 'yours', 'yourself', 'yourselves', 'he', 'him', 'his', 'himself', \\\n",
    "            'she', \"she's\", 'her', 'hers', 'herself', 'it', \"it's\", 'its', 'itself', 'they', 'them', 'their',\\\n",
    "            'theirs', 'themselves', 'what', 'which', 'who', 'whom', 'this', 'that', \"that'll\", 'these', 'those', \\\n",
    "            'am', 'is', 'are', 'was', 'were', 'be', 'been', 'being', 'have', 'has', 'had', 'having', 'do', 'does', \\\n",
    "            'did', 'doing', 'a', 'an', 'the', 'and', 'but', 'if', 'or', 'because', 'as', 'until', 'while', 'of', \\\n",
    "            'at', 'by', 'for', 'with', 'about', 'against', 'between', 'into', 'through', 'during', 'before', 'after',\\\n",
    "            'above', 'below', 'to', 'from', 'up', 'down', 'in', 'out', 'on', 'off', 'over', 'under', 'again', 'further',\\\n",
    "            'then', 'once', 'here', 'there', 'when', 'where', 'why', 'how', 'all', 'any', 'both', 'each', 'few', 'more',\\\n",
    "            'most', 'other', 'some', 'such', 'only', 'own', 'same', 'so', 'than', 'too', 'very', \\\n",
    "            's', 't', 'can', 'will', 'just', 'don', \"don't\", 'should', \"should've\", 'now', 'd', 'll', 'm', 'o', 're', \\\n",
    "            've', 'y', 'ain', 'aren', \"aren't\", 'couldn', \"couldn't\", 'didn', \"didn't\", 'doesn', \"doesn't\", 'hadn',\\\n",
    "            \"hadn't\", 'hasn', \"hasn't\", 'haven', \"haven't\", 'isn', \"isn't\", 'ma', 'mightn', \"mightn't\", 'mustn',\\\n",
    "            \"mustn't\", 'needn', \"needn't\", 'shan', \"shan't\", 'shouldn', \"shouldn't\", 'wasn', \"wasn't\", 'weren', \"weren't\", \\\n",
    "            'won', \"won't\", 'wouldn', \"wouldn't\"])"
   ]
  },
  {
   "cell_type": "code",
   "execution_count": 18,
   "metadata": {},
   "outputs": [],
   "source": [
    "import numpy as np\n",
    "import pandas as pd\n",
    "import matplotlib.pyplot as plt\n",
    "from sklearn import model_selection\n",
    "from sklearn.model_selection import train_test_split\n",
    "from sklearn.neighbors import KNeighborsClassifier\n",
    "from sklearn.metrics import accuracy_score\n",
    "from sklearn.model_selection import cross_val_score\n",
    "from collections import Counter\n",
    "from sklearn.metrics import accuracy_score\n"
   ]
  },
  {
   "cell_type": "code",
   "execution_count": 19,
   "metadata": {},
   "outputs": [
    {
     "name": "stdout",
     "output_type": "stream",
     "text": [
      "(54456,)\n",
      "(54456,)\n"
     ]
    }
   ],
   "source": [
    "Y =final['Score'].values\n",
    "X=final['Text'].values\n",
    "print(X.shape)\n",
    "print(Y.shape)"
   ]
  },
  {
   "cell_type": "code",
   "execution_count": 20,
   "metadata": {
    "colab": {},
    "colab_type": "code",
    "id": "1Rd8zIc8DYLF",
    "outputId": "33fd610b-9479-4f0e-bfd1-10e308b4b382"
   },
   "outputs": [
    {
     "name": "stderr",
     "output_type": "stream",
     "text": [
      "100%|██████████████████████████████████████████████████████████████████████████| 54456/54456 [00:37<00:00, 1457.48it/s]\n"
     ]
    }
   ],
   "source": [
    "# Combining all the above stundents \n",
    "from bs4 import BeautifulSoup\n",
    "from tqdm import tqdm\n",
    "X = []\n",
    "# tqdm is for printing the status bar\n",
    "for sentance in tqdm(final['Text'].values):\n",
    "    sentance = re.sub(r\"http\\S+\", \"\", sentance)\n",
    "    sentance = BeautifulSoup(sentance, 'lxml').get_text()\n",
    "    sentance = decontracted(sentance)\n",
    "    sentance = re.sub(\"\\S*\\d\\S*\", \"\", sentance).strip()\n",
    "    sentance = re.sub('[^A-Za-z]+', ' ', sentance)\n",
    "    # https://gist.github.com/sebleier/554280\n",
    "    sentance = ' '.join(e.lower() for e in sentance.split() if e.lower() not in stopwords)\n",
    "    X.append(sentance.strip())"
   ]
  },
  {
   "cell_type": "code",
   "execution_count": 22,
   "metadata": {
    "colab": {},
    "colab_type": "code",
    "id": "YBWzfi2NDYLL",
    "outputId": "479570d6-066b-4f7e-afe4-f6f21f19a95b"
   },
   "outputs": [
    {
     "name": "stdout",
     "output_type": "stream",
     "text": [
      "<class 'list'>\n"
     ]
    }
   ],
   "source": [
    "print(type(X))"
   ]
  },
  {
   "cell_type": "code",
   "execution_count": 23,
   "metadata": {},
   "outputs": [
    {
     "data": {
      "text/plain": [
       "'discovered cafe excellent mexican mochas three years ago expensive not visit often discovered powder used make mochas natural tastes great really rich nice spicy undertones cheapest way purchase bulk make mochas home espresso machine steamed milk also loved children hot chocolate'"
      ]
     },
     "execution_count": 23,
     "metadata": {},
     "output_type": "execute_result"
    }
   ],
   "source": [
    "X[25000]"
   ]
  },
  {
   "cell_type": "code",
   "execution_count": 21,
   "metadata": {},
   "outputs": [
    {
     "name": "stdout",
     "output_type": "stream",
     "text": [
      "24444 (24444,)\n",
      "12041 (12041,)\n",
      "17971 (17971,)\n",
      "====================================================================================================\n"
     ]
    }
   ],
   "source": [
    "# X_train, X_test, y_train, y_test = train_test_split(X, Y, test_size=0.33, shuffle=Flase)# this is for time series split\n",
    "X_train, X_test, y_train, y_test = train_test_split(X, Y, test_size=0.33) # this is random splitting\n",
    "X_train, X_cv, y_train, y_cv = train_test_split(X_train, y_train, test_size=0.33) # this is random splitting\n",
    "\n",
    "\n",
    "print(len(X_train), y_train.shape)\n",
    "print(len(X_cv), y_cv.shape)\n",
    "print(len(X_test), y_test.shape)\n",
    "\n",
    "print(\"=\"*100)\n"
   ]
  },
  {
   "cell_type": "code",
   "execution_count": 54,
   "metadata": {},
   "outputs": [
    {
     "name": "stdout",
     "output_type": "stream",
     "text": [
      "Counter({1: 20500, 0: 3944})\n",
      "Counter({1: 10070, 0: 1971})\n",
      "Counter({1: 15002, 0: 2969})\n"
     ]
    }
   ],
   "source": [
    "import collections, numpy\n",
    "print(collections.Counter(y_train))\n",
    "print(collections.Counter(y_cv))\n",
    "print(collections.Counter(y_test))"
   ]
  },
  {
   "cell_type": "markdown",
   "metadata": {},
   "source": [
    "#Split is applied on preprocessed 54456k samples i.e. X\n",
    "#Here X_train X_cv and X_test are list. \n",
    "#Train size 24444 CRoss Val 12041 and test 17971"
   ]
  },
  {
   "cell_type": "markdown",
   "metadata": {
    "colab_type": "text",
    "id": "vSmZvNNZDYLi"
   },
   "source": [
    "# [4] Featurization"
   ]
  },
  {
   "cell_type": "markdown",
   "metadata": {
    "colab_type": "text",
    "id": "zZs1QbloDYLk"
   },
   "source": [
    "## [4.1] BAG OF WORDS"
   ]
  },
  {
   "cell_type": "code",
   "execution_count": 22,
   "metadata": {
    "colab": {},
    "colab_type": "code",
    "id": "KGkxITLpDYLl",
    "outputId": "16064dd0-ec67-4bdc-eb91-bde23ac4377b"
   },
   "outputs": [
    {
     "name": "stdout",
     "output_type": "stream",
     "text": [
      "some feature names  ['aa', 'aaa', 'aaaaaaaaaaaaaaa', 'aaaaaaahhhhhh', 'aaaaaawwwwwwwwww', 'aaaaah', 'aaaand', 'aaah', 'aaf', 'aafco']\n",
      "==================================================\n",
      "the type of count vectorizer  <class 'scipy.sparse.csr.csr_matrix'>\n",
      "the shape of out text BOW vectorizer  (24444, 29342)\n",
      "the number of unique words  29342\n"
     ]
    }
   ],
   "source": [
    "#BoW\n",
    "count_vect = CountVectorizer() #in scikit-learn\n",
    "count_vect.fit(X_train)\n",
    "print(\"some feature names \", count_vect.get_feature_names()[:10])\n",
    "print('='*50)\n",
    "\n",
    "final_counts = count_vect.transform(X_train)\n",
    "print(\"the type of count vectorizer \",type(final_counts))\n",
    "print(\"the shape of out text BOW vectorizer \",final_counts.get_shape())\n",
    "print(\"the number of unique words \", final_counts.get_shape()[1])"
   ]
  },
  {
   "cell_type": "code",
   "execution_count": 23,
   "metadata": {},
   "outputs": [
    {
     "name": "stdout",
     "output_type": "stream",
     "text": [
      "After vectorizations\n",
      "(24444, 29342) (24444,)\n",
      "(12041, 29342) (12041,)\n",
      "(17971, 29342) (17971,)\n",
      "====================================================================================================\n"
     ]
    }
   ],
   "source": [
    "# we use the fitted CountVectorizer to convert the text to vector\n",
    "#.transform to apply on train, cv and test which will give set 1 of vectorized data\n",
    "set1_train = count_vect.transform(X_train)\n",
    "set1_cv = count_vect.transform(X_cv)\n",
    "set1_test = count_vect.transform(X_test)\n",
    "\n",
    "print(\"After vectorizations\")\n",
    "print(set1_train.shape, y_train.shape)\n",
    "print(set1_cv.shape, y_cv.shape)\n",
    "print(set1_test.shape, y_test.shape)\n",
    "print(\"=\"*100)"
   ]
  },
  {
   "cell_type": "code",
   "execution_count": null,
   "metadata": {},
   "outputs": [],
   "source": [
    "# using BoW 29342 Dim vectors are created These to be used as set 1 for KNN using brute"
   ]
  },
  {
   "cell_type": "code",
   "execution_count": 24,
   "metadata": {},
   "outputs": [
    {
     "name": "stdout",
     "output_type": "stream",
     "text": [
      "some feature names  ['able', 'absolutely', 'acid', 'actually', 'add', 'added', 'ago', 'almonds', 'almost', 'also']\n",
      "==================================================\n",
      "the type of count vectorizer  <class 'scipy.sparse.csr.csr_matrix'>\n",
      "the shape of out text BOW vectorizer  (24444, 500)\n",
      "(12041, 500) (12041,)\n",
      "(17971, 500) (17971,)\n",
      "====================================================================================================\n",
      "the number of unique words  500\n"
     ]
    }
   ],
   "source": [
    "set5_count_vect = CountVectorizer(min_df=10, max_features=500) \n",
    "set5_count_vect.fit(X_train)\n",
    "print(\"some feature names \", set5_count_vect.get_feature_names()[:10])\n",
    "print('='*50)\n",
    "\n",
    "set5_train = set5_count_vect.transform(X_train)\n",
    "set5_cv = set5_count_vect.transform(X_cv)\n",
    "set5_test = set5_count_vect.transform(X_test)\n",
    "\n",
    "print(\"the type of count vectorizer \",type(set5_train))\n",
    "print(\"the shape of out text BOW vectorizer \",set5_train.get_shape())\n",
    "print(set5_cv.shape, y_cv.shape)\n",
    "print(set5_test.shape, y_test.shape)\n",
    "print(\"=\"*100)\n",
    "print(\"the number of unique words \", set5_train.get_shape()[1])"
   ]
  },
  {
   "cell_type": "markdown",
   "metadata": {},
   "source": [
    "#Using BoW set 5 of dim 500 is created which is to be used for KNN using KDTree . # as set 5 is in sparse for need to convert it in dense before applying KNN KDTree"
   ]
  },
  {
   "cell_type": "markdown",
   "metadata": {
    "colab_type": "text",
    "id": "_pcNUauJDYLr"
   },
   "source": [
    "## [4.2] Bi-Grams and n-Grams."
   ]
  },
  {
   "cell_type": "code",
   "execution_count": 25,
   "metadata": {
    "colab": {},
    "colab_type": "code",
    "id": "cM2SIgUvDYLt",
    "outputId": "6c8ccfed-f489-4347-99da-e9baff3625d0"
   },
   "outputs": [
    {
     "name": "stdout",
     "output_type": "stream",
     "text": [
      "the type of count vectorizer  <class 'scipy.sparse.csr.csr_matrix'>\n",
      "the shape of out text BOW vectorizer  (24444, 14677)\n",
      "the number of unique words including both unigrams and bigrams  14677\n"
     ]
    }
   ],
   "source": [
    "#bi-gram, tri-gram and n-gram\n",
    "\n",
    "#removing stop words like \"not\" should be avoided before building n-grams\n",
    "# count_vect = CountVectorizer(ngram_range=(1,2))\n",
    "# please do read the CountVectorizer documentation http://scikit-learn.org/stable/modules/generated/sklearn.feature_extraction.text.CountVectorizer.html\n",
    "\n",
    "# you can choose these numebrs min_df=10, max_features=5000, of your choice\n",
    "count_vect = CountVectorizer(ngram_range=(1,2), min_df=10)\n",
    "final_bigram_counts = count_vect.fit_transform(X_train)\n",
    "print(\"the type of count vectorizer \",type(final_bigram_counts))\n",
    "print(\"the shape of out text BOW vectorizer \",final_bigram_counts.get_shape())\n",
    "print(\"the number of unique words including both unigrams and bigrams \", final_bigram_counts.get_shape()[1])"
   ]
  },
  {
   "cell_type": "markdown",
   "metadata": {
    "colab_type": "text",
    "id": "6bReCy__DYLx"
   },
   "source": [
    "## [4.3] TF-IDF"
   ]
  },
  {
   "cell_type": "markdown",
   "metadata": {},
   "source": [
    "#\n",
    "#.fit applied on X_train only and .transform applied on X_train, X_Cv,X_tset to produce set 2 dataset \n",
    "#\n",
    "#set2_train to use to fit model set2_train set2_cv and set2_test to use for .transform"
   ]
  },
  {
   "cell_type": "code",
   "execution_count": 26,
   "metadata": {},
   "outputs": [
    {
     "name": "stdout",
     "output_type": "stream",
     "text": [
      "some sample features(unique words in the corpus) ['ability', 'able', 'able buy', 'able drink', 'able eat', 'able enjoy', 'able find', 'able get', 'able give', 'able make']\n",
      "==================================================\n",
      "the type of count vectorizer  <class 'scipy.sparse.csr.csr_matrix'>\n",
      "the shape of out text TFIDF vectorizer  (24444, 14677)\n",
      "(12041, 14677) (12041,)\n",
      "(17971, 14677) (17971,)\n",
      "the number of unique words including both unigrams and bigrams  14677\n"
     ]
    }
   ],
   "source": [
    "tf_idf_vect = TfidfVectorizer(ngram_range=(1,2), min_df=10)\n",
    "tf_idf_vect.fit(X_train)\n",
    "print(\"some sample features(unique words in the corpus)\",tf_idf_vect.get_feature_names()[0:10])\n",
    "print('='*50)\n",
    "\n",
    "set2_train= tf_idf_vect.transform(X_train)\n",
    "set2_cv = tf_idf_vect.transform(X_cv)\n",
    "set2_test = tf_idf_vect.transform(X_test)\n",
    "print(\"the type of count vectorizer \",type(set2_train))\n",
    "print(\"the shape of out text TFIDF vectorizer \",set2_train.get_shape())\n",
    "print(set2_cv.shape, y_cv.shape)\n",
    "print(set2_test.shape, y_test.shape)\n",
    "print(\"the number of unique words including both unigrams and bigrams \", set2_train.get_shape()[1])"
   ]
  },
  {
   "cell_type": "code",
   "execution_count": 27,
   "metadata": {
    "colab": {},
    "colab_type": "code",
    "id": "hfpsAqaXDYLy",
    "outputId": "1c5e5547-33a4-4e6a-f47c-f38d2ce17a05"
   },
   "outputs": [
    {
     "name": "stdout",
     "output_type": "stream",
     "text": [
      "some sample features(unique words in the corpus) ['ability', 'able', 'able buy', 'able drink', 'able eat', 'able enjoy', 'able find', 'able get', 'able give', 'able make']\n",
      "==================================================\n",
      "the type of count vectorizer  <class 'scipy.sparse.csr.csr_matrix'>\n",
      "the shape of out text TFIDF vectorizer  (24444, 500)\n",
      "(12041, 500) (12041,)\n",
      "(17971, 500) (17971,)\n",
      "the number of unique words including both unigrams and bigrams  500\n"
     ]
    }
   ],
   "source": [
    "tf_idf_vect_kdtree = TfidfVectorizer(ngram_range=(1,2), min_df=10,max_features=500)\n",
    "tf_idf_vect_kdtree.fit(X_train)\n",
    "print(\"some sample features(unique words in the corpus)\",tf_idf_vect.get_feature_names()[0:10])\n",
    "print('='*50)\n",
    "\n",
    "set6_train = tf_idf_vect_kdtree.transform(X_train)\n",
    "set6_cv = tf_idf_vect_kdtree.transform(X_cv)\n",
    "set6_test = tf_idf_vect_kdtree.transform(X_test)\n",
    "print(\"the type of count vectorizer \",type(set6_train))\n",
    "print(\"the shape of out text TFIDF vectorizer \",set6_train.get_shape())\n",
    "print(set6_cv.shape, y_cv.shape)\n",
    "print(set6_test.shape, y_test.shape)\n",
    "print(\"the number of unique words including both unigrams and bigrams \", set6_train.get_shape()[1])"
   ]
  },
  {
   "cell_type": "markdown",
   "metadata": {},
   "source": [
    "#as .transform applied on X_train in this cell next we will apply .transform on X_cv and X_test only"
   ]
  },
  {
   "cell_type": "markdown",
   "metadata": {
    "colab_type": "text",
    "id": "9kpriSSvDYL8"
   },
   "source": [
    "## [4.4] Word2Vec"
   ]
  },
  {
   "cell_type": "code",
   "execution_count": 28,
   "metadata": {
    "colab": {},
    "colab_type": "code",
    "id": "zm7QLZ2jDYL-"
   },
   "outputs": [],
   "source": [
    "# Train your own Word2Vec model using your own text corpus\n",
    "i=0\n",
    "list_of_sentance_train=[]\n",
    "for sentance in X_train:\n",
    "    list_of_sentance_train.append(sentance.split())"
   ]
  },
  {
   "cell_type": "code",
   "execution_count": 29,
   "metadata": {
    "colab": {},
    "colab_type": "code",
    "id": "hTiK-q0NDYMN",
    "outputId": "62d8ddf6-180c-4578-d2b6-813e60bf535c"
   },
   "outputs": [
    {
     "name": "stderr",
     "output_type": "stream",
     "text": [
      "C:\\Users\\Rajendra\\Anaconda3\\lib\\site-packages\\gensim\\models\\base_any2vec.py:743: UserWarning: C extension not loaded, training will be slow. Install a C compiler and reinstall gensim for fast training.\n",
      "  \"C extension not loaded, training will be slow. \"\n"
     ]
    },
    {
     "name": "stdout",
     "output_type": "stream",
     "text": [
      "[('awesome', 0.8790917992591858), ('amazing', 0.8325502872467041), ('fantastic', 0.7895889282226562), ('excellent', 0.785558819770813), ('good', 0.7527732253074646), ('wonderful', 0.73508220911026), ('perfect', 0.7141999006271362), ('delicious', 0.6838072538375854), ('decent', 0.682537317276001), ('terrific', 0.6770455241203308)]\n",
      "==================================================\n",
      "[('nastiest', 0.8151519298553467), ('closest', 0.7847515344619751), ('best', 0.7508504986763), ('ive', 0.734268069267273), ('eaten', 0.7186506986618042), ('hottest', 0.7135950326919556), ('experienced', 0.6945925951004028), ('freshest', 0.69370037317276), ('addicted', 0.6874316930770874), ('gross', 0.6864479780197144)]\n",
      "number of words that occured minimum 5 times  9489\n",
      "sample words  ['love', 'products', 'far', 'flax', 'cereal', 'best', 'tast', 'filling', 'sauce', 'makes', 'easy', 'make', 'fish', 'chicken', 'taste', 'much', 'interesting', 'unique', 'blend', 'sweet', 'spicy', 'not', 'usually', 'saute', 'little', 'olive', 'oil', 'finished', 'add', 'top', 'turn', 'minute', 'two', 'given', 'away', 'many', 'bottles', 'friends', 'end', 'loving', 'friend', 'sent', 'use', 'everything', 'texture', 'real', 'cake', 'no', 'longer', 'feeling']\n"
     ]
    }
   ],
   "source": [
    "from gensim.models import Word2Vec\n",
    "from gensim.models import KeyedVectors\n",
    "\n",
    "\n",
    "# min_count = 5 considers only words that occured atleast 5 times\n",
    "w2v_model=Word2Vec(list_of_sentance_train,min_count=5,size=50, workers=4)\n",
    "\n",
    "print(w2v_model.wv.most_similar('great'))\n",
    "print('='*50)\n",
    "print(w2v_model.wv.most_similar('worst'))\n",
    "\n",
    "# this line of code trains your w2v model on the give list of sentances\n",
    "w2v_words = list(w2v_model.wv.vocab)\n",
    "\n",
    "print(\"number of words that occured minimum 5 times \",len(w2v_words))\n",
    "print(\"sample words \", w2v_words[0:50])"
   ]
  },
  {
   "cell_type": "markdown",
   "metadata": {
    "colab_type": "text",
    "id": "cse_ZlapDYMX"
   },
   "source": [
    "## [4.4.1] Converting text into vectors using Avg W2V, TFIDF-W2V"
   ]
  },
  {
   "cell_type": "markdown",
   "metadata": {
    "colab_type": "text",
    "id": "3H0BUlYEDYMY"
   },
   "source": [
    "#### [4.4.1.1] Avg W2v"
   ]
  },
  {
   "cell_type": "code",
   "execution_count": 30,
   "metadata": {},
   "outputs": [],
   "source": [
    "from tqdm import tqdm\n",
    "import numpy as np"
   ]
  },
  {
   "cell_type": "code",
   "execution_count": 31,
   "metadata": {
    "colab": {},
    "colab_type": "code",
    "id": "czBD_JcEDYMY",
    "outputId": "2bfa328d-04a0-45ae-ad72-25576c7edc3c"
   },
   "outputs": [
    {
     "name": "stderr",
     "output_type": "stream",
     "text": [
      "100%|███████████████████████████████████████████████████████████████████████████| 24444/24444 [00:30<00:00, 811.69it/s]\n"
     ]
    },
    {
     "name": "stdout",
     "output_type": "stream",
     "text": [
      "(24444, 50)\n",
      "[ 1.40061764  0.25584026  0.0383425  -0.48738744  0.59006943 -0.10700018\n",
      "  0.24858132  0.35841975 -0.06173361  0.83606024 -0.37131026 -0.24508039\n",
      "  0.22774701  0.10603906 -0.62930851  0.20026954  0.24161353  0.17550383\n",
      "  0.01392117  0.44099093 -0.69681453  0.74418774  0.31308616  0.21159959\n",
      " -0.52049118  0.54984205  0.01157809  0.19317308 -0.84076459 -0.07090257\n",
      "  0.06139229  0.7731638  -0.22979822  0.25865258  0.42323248 -0.7021703\n",
      " -1.09378012 -0.27402765  0.46918005  0.17082848  0.48085709  0.75876475\n",
      " -0.68885656  0.02898427 -0.06158114  0.46503462  0.08615948  0.16261732\n",
      " -0.86031329  0.49494321]\n"
     ]
    }
   ],
   "source": [
    "# average Word2Vec\n",
    "# compute average word2vec for each review.\n",
    "set3_train = []; # the avg-w2v for each sentence/review is stored in this list\n",
    "for sent in tqdm(list_of_sentance_train): # for each review/sentence\n",
    "    sent_vec = np.zeros(50) # as word vectors are of zero length 50, you might need to change this to 300 if you use google's w2v\n",
    "    cnt_words =0; # num of words with a valid vector in the sentence/review\n",
    "    for word in sent: # for each word in a review/sentence\n",
    "        if word in w2v_words:\n",
    "            vec = w2v_model.wv[word]\n",
    "            sent_vec += vec\n",
    "            cnt_words += 1\n",
    "    if cnt_words != 0:\n",
    "        sent_vec /= cnt_words\n",
    "    set3_train.append(sent_vec)\n",
    "set3_train = np.array(set3_train)\n",
    "print(set3_train.shape)\n",
    "print(set3_train[0])\n"
   ]
  },
  {
   "cell_type": "code",
   "execution_count": 32,
   "metadata": {},
   "outputs": [],
   "source": [
    "i=0\n",
    "list_of_sentance_cv=[]\n",
    "for sentance in X_cv:\n",
    "    list_of_sentance_cv.append(sentance.split())"
   ]
  },
  {
   "cell_type": "code",
   "execution_count": 33,
   "metadata": {},
   "outputs": [
    {
     "name": "stderr",
     "output_type": "stream",
     "text": [
      "100%|███████████████████████████████████████████████████████████████████████████| 12041/12041 [00:15<00:00, 790.74it/s]\n"
     ]
    },
    {
     "name": "stdout",
     "output_type": "stream",
     "text": [
      "(12041, 50)\n",
      "[ 0.7950967   0.85463223 -0.37763011  0.46514822  0.65507656 -0.00126327\n",
      " -0.40676158 -0.11481644 -0.01022863  0.14441609  0.0027431   0.11324715\n",
      "  0.01370269  1.15760614 -0.08573321 -0.03230071  0.32760962 -0.22161534\n",
      " -0.27773635  0.02726767 -0.39630287 -0.13032255  0.10166218  0.60156258\n",
      "  0.32064348  0.40110019 -0.52775059  0.73017437  0.49451147  0.25257223\n",
      " -0.16642224  0.7070048  -0.05659197  0.21314481  0.19295499  0.33291991\n",
      " -0.03717372 -0.30417964  0.38745837 -0.36540977 -0.16637962  0.38034938\n",
      " -0.25762951  0.33879272  0.10187048  0.35714669 -0.0446141   0.34235535\n",
      " -0.21870887  0.4218067 ]\n"
     ]
    }
   ],
   "source": [
    "# average Word2Vec\n",
    "# compute average word2vec for each review.\n",
    "set3_cv = []; # the avg-w2v for each sentence/review is stored in this list\n",
    "for sent in tqdm(list_of_sentance_cv): # for each review/sentence\n",
    "    sent_vec = np.zeros(50) # as word vectors are of zero length 50, you might need to change this to 300 if you use google's w2v\n",
    "    cnt_words =0; # num of words with a valid vector in the sentence/review\n",
    "    for word in sent: # for each word in a review/sentence\n",
    "        if word in w2v_words:\n",
    "            vec = w2v_model.wv[word]\n",
    "            sent_vec += vec\n",
    "            cnt_words += 1\n",
    "    if cnt_words != 0:\n",
    "        sent_vec /= cnt_words\n",
    "    set3_cv.append(sent_vec)\n",
    "set3_cv = np.array(set3_cv)\n",
    "print(set3_cv.shape)\n",
    "print(set3_cv[0])"
   ]
  },
  {
   "cell_type": "code",
   "execution_count": 34,
   "metadata": {},
   "outputs": [],
   "source": [
    "i=0\n",
    "list_of_sentance_test=[]\n",
    "for sentance in X_test:\n",
    "    list_of_sentance_test.append(sentance.split())"
   ]
  },
  {
   "cell_type": "code",
   "execution_count": 35,
   "metadata": {},
   "outputs": [
    {
     "name": "stderr",
     "output_type": "stream",
     "text": [
      "100%|███████████████████████████████████████████████████████████████████████████| 17971/17971 [00:22<00:00, 802.89it/s]\n"
     ]
    },
    {
     "name": "stdout",
     "output_type": "stream",
     "text": [
      "(17971, 50)\n",
      "[ 1.42588587e+00  2.24397472e-01 -1.60100677e-01 -1.95281464e-01\n",
      "  5.80459577e-01  2.99436213e-01 -5.18693759e-02  4.39729126e-02\n",
      " -3.44832490e-01  9.96759279e-02 -1.34121807e-01 -2.39955961e-01\n",
      "  1.18848169e-01  1.08038781e+00 -6.48334112e-01 -4.72329579e-01\n",
      " -1.04732405e+00 -9.67641586e-01 -4.07483949e-01  4.89107054e-01\n",
      " -1.14529215e+00  4.67143537e-02  1.46706997e-01 -6.33134610e-04\n",
      "  3.54378904e-01  4.24960361e-01  2.20503666e-01 -4.66505048e-01\n",
      "  5.31334006e-02  8.12690222e-01 -3.30069481e-01  2.85644930e-02\n",
      " -2.55404294e-01  4.99331396e-02  7.26319083e-01  3.39118247e-01\n",
      " -2.18757692e-01 -1.55273616e-01  8.06033020e-01  1.63882919e-01\n",
      " -1.53052034e-01  4.00603454e-01 -6.28746038e-01  4.71780005e-01\n",
      "  1.92288615e-01  6.52394462e-01 -8.53080840e-01  8.10698081e-01\n",
      " -3.21439827e-01  1.65392111e-02]\n"
     ]
    }
   ],
   "source": [
    "# average Word2Vec\n",
    "# compute average word2vec for each review.\n",
    "set3_test = []; # the avg-w2v for each sentence/review is stored in this list\n",
    "for sent in tqdm(list_of_sentance_test): # for each review/sentence\n",
    "    sent_vec = np.zeros(50) # as word vectors are of zero length 50, you might need to change this to 300 if you use google's w2v\n",
    "    cnt_words =0; # num of words with a valid vector in the sentence/review\n",
    "    for word in sent: # for each word in a review/sentence\n",
    "        if word in w2v_words:\n",
    "            vec = w2v_model.wv[word]\n",
    "            sent_vec += vec\n",
    "            cnt_words += 1\n",
    "    if cnt_words != 0:\n",
    "        sent_vec /= cnt_words\n",
    "    set3_test.append(sent_vec)\n",
    "set3_test = np.array(set3_test)\n",
    "print(set3_test.shape)\n",
    "print(set3_test[0])"
   ]
  },
  {
   "cell_type": "markdown",
   "metadata": {
    "colab_type": "text",
    "id": "ZKhyFyhmDYMd"
   },
   "source": [
    "#### [4.4.1.2] TFIDF weighted W2v"
   ]
  },
  {
   "cell_type": "code",
   "execution_count": 36,
   "metadata": {
    "colab": {},
    "colab_type": "code",
    "id": "2UmpXW92DYMe"
   },
   "outputs": [],
   "source": [
    "# S = [\"abc def pqr\", \"def def def abc\", \"pqr pqr def\"]\n",
    "model = TfidfVectorizer()\n",
    "tf_idf_matrix = model.fit_transform(X_train)\n",
    "# we are converting a dictionary with word as a key, and the idf as a value\n",
    "dictionary = dict(zip(model.get_feature_names(), list(model.idf_)))"
   ]
  },
  {
   "cell_type": "code",
   "execution_count": 37,
   "metadata": {
    "colab": {},
    "colab_type": "code",
    "id": "yJgfDSnUDYMk",
    "outputId": "fa3cabf4-d68c-482f-c37d-ae3ff4794bf1",
    "scrolled": true
   },
   "outputs": [
    {
     "name": "stderr",
     "output_type": "stream",
     "text": [
      "100%|████████████████████████████████████████████████████████████████████████████| 24444/24444 [04:25<00:00, 92.19it/s]\n"
     ]
    },
    {
     "name": "stdout",
     "output_type": "stream",
     "text": [
      "24444\n",
      "50\n"
     ]
    }
   ],
   "source": [
    "# TF-IDF weighted Word2Vec\n",
    "tfidf_feat = model.get_feature_names() # tfidf words/col-names\n",
    "# final_tf_idf is the sparse matrix with row= sentence, col=word and cell_val = tfidf\n",
    "\n",
    "set4_train = []; # the tfidf-w2v for each sentence/review is stored in this list\n",
    "row=0;\n",
    "for sent in tqdm(list_of_sentance_train): # for each review/sentence \n",
    "    sent_vec = np.zeros(50) # as word vectors are of zero length\n",
    "    weight_sum =0; # num of words with a valid vector in the sentence/review\n",
    "    for word in sent: # for each word in a review/sentence\n",
    "        if word in w2v_words and word in tfidf_feat:\n",
    "            vec = w2v_model.wv[word]\n",
    "#             tf_idf = tf_idf_matrix[row, tfidf_feat.index(word)]\n",
    "            # to reduce the computation we are \n",
    "            # dictionary[word] = idf value of word in whole courpus\n",
    "            # sent.count(word) = tf valeus of word in this review\n",
    "            tf_idf = dictionary[word]*(sent.count(word)/len(sent))\n",
    "            sent_vec += (vec * tf_idf)\n",
    "            weight_sum += tf_idf\n",
    "    if weight_sum != 0:\n",
    "        sent_vec /= weight_sum\n",
    "    set4_train.append(sent_vec)\n",
    "    row += 1\n",
    "print(len(set4_train))\n",
    "print(len(set4_train[0]))"
   ]
  },
  {
   "cell_type": "code",
   "execution_count": 38,
   "metadata": {},
   "outputs": [
    {
     "name": "stderr",
     "output_type": "stream",
     "text": [
      "100%|████████████████████████████████████████████████████████████████████████████| 12041/12041 [02:14<00:00, 89.38it/s]\n"
     ]
    },
    {
     "name": "stdout",
     "output_type": "stream",
     "text": [
      "12041\n",
      "50\n"
     ]
    }
   ],
   "source": [
    "set4_cv = []; # the tfidf-w2v for each sentence/review is stored in this list\n",
    "row=0;\n",
    "for sent in tqdm(list_of_sentance_cv): # for each review/sentence \n",
    "    sent_vec = np.zeros(50) # as word vectors are of zero length\n",
    "    weight_sum =0; # num of words with a valid vector in the sentence/review\n",
    "    for word in sent: # for each word in a review/sentence\n",
    "        if word in w2v_words and word in tfidf_feat:\n",
    "            vec = w2v_model.wv[word]\n",
    "#             tf_idf = tf_idf_matrix[row, tfidf_feat.index(word)]\n",
    "            # to reduce the computation we are \n",
    "            # dictionary[word] = idf value of word in whole courpus\n",
    "            # sent.count(word) = tf valeus of word in this review\n",
    "            tf_idf = dictionary[word]*(sent.count(word)/len(sent))\n",
    "            sent_vec += (vec * tf_idf)\n",
    "            weight_sum += tf_idf\n",
    "    if weight_sum != 0:\n",
    "        sent_vec /= weight_sum\n",
    "    set4_cv.append(sent_vec)\n",
    "    row += 1\n",
    "print(len(set4_cv))\n",
    "print(len(set4_cv[0]))"
   ]
  },
  {
   "cell_type": "code",
   "execution_count": 39,
   "metadata": {},
   "outputs": [
    {
     "name": "stderr",
     "output_type": "stream",
     "text": [
      "100%|████████████████████████████████████████████████████████████████████████████| 17971/17971 [03:20<00:00, 89.81it/s]\n"
     ]
    },
    {
     "name": "stdout",
     "output_type": "stream",
     "text": [
      "17971\n",
      "50\n"
     ]
    }
   ],
   "source": [
    "set4_test = []; # the tfidf-w2v for each sentence/review is stored in this list\n",
    "row=0;\n",
    "for sent in tqdm(list_of_sentance_test): # for each review/sentence \n",
    "    sent_vec = np.zeros(50) # as word vectors are of zero length\n",
    "    weight_sum =0; # num of words with a valid vector in the sentence/review\n",
    "    for word in sent: # for each word in a review/sentence\n",
    "        if word in w2v_words and word in tfidf_feat:\n",
    "            vec = w2v_model.wv[word]\n",
    "#             tf_idf = tf_idf_matrix[row, tfidf_feat.index(word)]\n",
    "            # to reduce the computation we are \n",
    "            # dictionary[word] = idf value of word in whole courpus\n",
    "            # sent.count(word) = tf valeus of word in this review\n",
    "            tf_idf = dictionary[word]*(sent.count(word)/len(sent))\n",
    "            sent_vec += (vec * tf_idf)\n",
    "            weight_sum += tf_idf\n",
    "    if weight_sum != 0:\n",
    "        sent_vec /= weight_sum\n",
    "    set4_test.append(sent_vec)\n",
    "    row += 1\n",
    "print(len(set4_test))\n",
    "print(len(set4_test[0]))"
   ]
  },
  {
   "cell_type": "markdown",
   "metadata": {
    "colab_type": "text",
    "id": "grP7WVsuDYMp"
   },
   "source": [
    "# [5] Assignment 3: KNN"
   ]
  },
  {
   "cell_type": "markdown",
   "metadata": {
    "colab_type": "text",
    "id": "ysQgMV4SDYMq"
   },
   "source": [
    "<ol>\n",
    "    <li><strong>Apply Knn(brute force version) on these feature sets</strong>\n",
    "        <ul>\n",
    "            <li><font color='red'>SET 1:</font>Review text, preprocessed one converted into vectors using (BOW)</li>\n",
    "            <li><font color='red'>SET 2:</font>Review text, preprocessed one converted into vectors using (TFIDF)</li>\n",
    "            <li><font color='red'>SET 3:</font>Review text, preprocessed one converted into vectors using (AVG W2v)</li>\n",
    "            <li><font color='red'>SET 4:</font>Review text, preprocessed one converted into vectors using (TFIDF W2v)</li>\n",
    "        </ul>\n",
    "    </li>\n",
    "    <br>\n",
    "    <li><strong>Apply Knn(kd tree version) on these feature sets</strong>\n",
    "        <br><font color='red'>NOTE: </font>sklearn implementation of kd-tree accepts only dense matrices, you need to convert the sparse matrices of CountVectorizer/TfidfVectorizer into dense matices. You can convert sparse matrices to dense using .toarray() attribute. For more information please visit this <a href='https://docs.scipy.org/doc/scipy-0.18.1/reference/generated/scipy.sparse.csr_matrix.toarray.html'>link</a>\n",
    "        <ul>\n",
    "            <li><font color='red'>SET 5:</font>Review text, preprocessed one converted into vectors using (BOW) but with restriction on maximum features generated.\n",
    "            <pre>\n",
    "            count_vect = CountVectorizer(min_df=10, max_features=500) \n",
    "            count_vect.fit(preprocessed_reviews)\n",
    "            </pre>\n",
    "            </li>\n",
    "            <li><font color='red'>SET 6:</font>Review text, preprocessed one converted into vectors using (TFIDF) but with restriction on maximum features generated.\n",
    "            <pre>\n",
    "                tf_idf_vect = TfidfVectorizer(min_df=10, max_features=500)\n",
    "                tf_idf_vect.fit(preprocessed_reviews)\n",
    "            </pre>\n",
    "            </li>\n",
    "            <li><font color='red'>SET 3:</font>Review text, preprocessed one converted into vectors using (AVG W2v)</li>\n",
    "            <li><font color='red'>SET 4:</font>Review text, preprocessed one converted into vectors using (TFIDF W2v)</li>\n",
    "        </ul>\n",
    "    </li>\n",
    "    <br>\n",
    "    <li><strong>The hyper paramter tuning(find best K)</strong>\n",
    "        <ul>\n",
    "    <li>Find the best hyper parameter which will give the maximum <a href='https://www.appliedaicourse.com/course/applied-ai-course-online/lessons/receiver-operating-characteristic-curve-roc-curve-and-auc-1/'>AUC</a> value</li>\n",
    "    <li>Find the best hyper paramter using k-fold cross validation or simple cross validation data</li>\n",
    "    <li>Use gridsearch cv or randomsearch cv or you can also write your own for loops to do this task of hyperparameter tuning</li>\n",
    "        </ul>\n",
    "    </li>\n",
    "    <br>\n",
    "    <li>\n",
    "    <strong>Representation of results</strong>\n",
    "        <ul>\n",
    "    <li>You need to plot the performance of model both on train data and cross validation data for each hyper parameter, like shown in the figure\n",
    "    <img src='train_cv_auc.JPG' width=300px></li>\n",
    "    <li>Once after you found the best hyper parameter, you need to train your model with it, and find the AUC on test data and plot the ROC curve on both train and test.\n",
    "    <img src='train_test_auc.JPG' width=300px></li>\n",
    "    <li>Along with plotting ROC curve, you need to print the <a href='https://www.appliedaicourse.com/course/applied-ai-course-online/lessons/confusion-matrix-tpr-fpr-fnr-tnr-1/'>confusion matrix</a> with predicted and original labels of test data points\n",
    "    <img src='confusion_matrix.png' width=300px></li>\n",
    "        </ul>\n",
    "    </li>\n",
    "    <br>\n",
    "    <li><strong>Conclusion</strong>\n",
    "        <ul>\n",
    "    <li>You need to summarize the results at the end of the notebook, summarize it in the table format. To print out a table please refer to this prettytable library<a href='http://zetcode.com/python/prettytable/'> link</a> \n",
    "        <img src='summary.JPG' width=400px>\n",
    "    </li>\n",
    "        </ul>\n",
    "</ol>"
   ]
  },
  {
   "cell_type": "markdown",
   "metadata": {
    "colab_type": "text",
    "id": "juYtRIKQDYMr"
   },
   "source": [
    "<h4><font color='red'>Note: Data Leakage</font></h4>\n",
    "\n",
    "1. There will be an issue of data-leakage if you vectorize the entire data and then split it into train/cv/test.\n",
    "2. To avoid the issue of data-leakag, make sure to split your data first and then vectorize it. \n",
    "3. While vectorizing your data, apply the method fit_transform() on you train data, and apply the method transform() on cv/test data.\n",
    "4. For more details please go through this <a href='https://soundcloud.com/applied-ai-course/leakage-bow-and-tfidf'>link.</a>"
   ]
  },
  {
   "cell_type": "markdown",
   "metadata": {
    "colab_type": "text",
    "id": "WEbTAOWHDYMu"
   },
   "source": [
    "## [5.1] Applying KNN brute force"
   ]
  },
  {
   "cell_type": "markdown",
   "metadata": {
    "colab_type": "text",
    "id": "ArO5fI7kDYMv"
   },
   "source": [
    "### [5.1.1] Applying KNN brute force on BOW,<font color='red'> SET 1</font>"
   ]
  },
  {
   "cell_type": "code",
   "execution_count": 42,
   "metadata": {
    "colab": {},
    "colab_type": "code",
    "id": "Rw_A_9pfDYMw"
   },
   "outputs": [
    {
     "name": "stdout",
     "output_type": "stream",
     "text": [
      "[1, 11, 21, 31, 41, 51, 61, 71, 81, 91, 101, 111, 121, 131, 141, 151, 161, 171, 181, 191]\n",
      "K:: 1\n",
      "cv_rocauc:: 0.5776940664460899\n",
      "diff_train_cv_roc_auc 0.42141850961881877\n",
      "K:: 11\n",
      "cv_rocauc:: 0.6591509358387785\n",
      "diff_train_cv_roc_auc 0.1592532718493429\n",
      "K:: 21\n",
      "cv_rocauc:: 0.6631851519324141\n",
      "diff_train_cv_roc_auc 0.11742625533023854\n",
      "K:: 31\n",
      "cv_rocauc:: 0.6646247449991107\n",
      "diff_train_cv_roc_auc 0.1049440782829355\n",
      "K:: 41\n",
      "cv_rocauc:: 0.6650038517793002\n",
      "diff_train_cv_roc_auc 0.0986522297029141\n",
      "K:: 51\n",
      "cv_rocauc:: 0.6667816658328284\n",
      "diff_train_cv_roc_auc 0.09709894936531138\n",
      "K:: 61\n",
      "cv_rocauc:: 0.671781068794441\n",
      "diff_train_cv_roc_auc 0.09506488430504934\n",
      "K:: 71\n",
      "cv_rocauc:: 0.6776322465219365\n",
      "diff_train_cv_roc_auc 0.10592812304220534\n",
      "K:: 81\n",
      "cv_rocauc:: 0.6946991052485468\n",
      "diff_train_cv_roc_auc 0.08802652924410637\n",
      "K:: 91\n",
      "cv_rocauc:: 0.7120309784829381\n",
      "diff_train_cv_roc_auc 0.06411105263564887\n",
      "K:: 101\n",
      "cv_rocauc:: 0.7278558965979897\n",
      "diff_train_cv_roc_auc 0.057551366054758524\n",
      "K:: 111\n",
      "cv_rocauc:: 0.7424003311169858\n",
      "diff_train_cv_roc_auc 0.05004089482671381\n",
      "K:: 121\n",
      "cv_rocauc:: 0.7533758868035371\n",
      "diff_train_cv_roc_auc 0.04324675703953429\n",
      "K:: 131\n",
      "cv_rocauc:: 0.7621942193584532\n",
      "diff_train_cv_roc_auc 0.037134721174866936\n",
      "K:: 141\n",
      "cv_rocauc:: 0.7689425417309679\n",
      "diff_train_cv_roc_auc 0.031729865877996755\n",
      "K:: 151\n",
      "cv_rocauc:: 0.7739917734660018\n",
      "diff_train_cv_roc_auc 0.02664338089010554\n",
      "K:: 161\n",
      "cv_rocauc:: 0.777078764226266\n",
      "diff_train_cv_roc_auc 0.022659263280783826\n",
      "K:: 171\n",
      "cv_rocauc:: 0.7793209330727526\n",
      "diff_train_cv_roc_auc 0.020552292079377255\n",
      "K:: 181\n",
      "cv_rocauc:: 0.7807637506505704\n",
      "diff_train_cv_roc_auc 0.018666145950626878\n",
      "K:: 191\n",
      "cv_rocauc:: 0.7813402579709663\n",
      "diff_train_cv_roc_auc 0.01828050589387331\n",
      "[0.5776940664460899, 0.6591509358387785, 0.6631851519324141, 0.6646247449991107, 0.6650038517793002, 0.6667816658328284, 0.671781068794441, 0.6776322465219365, 0.6946991052485468, 0.7120309784829381, 0.7278558965979897, 0.7424003311169858, 0.7533758868035371, 0.7621942193584532, 0.7689425417309679, 0.7739917734660018, 0.777078764226266, 0.7793209330727526, 0.7807637506505704, 0.7813402579709663]\n"
     ]
    },
    {
     "data": {
      "image/png": "[encoded data removed]",
      "text/plain": [
       "<Figure size 432x288 with 1 Axes>"
      ]
     },
     "metadata": {
      "needs_background": "light"
     },
     "output_type": "display_data"
    }
   ],
   "source": [
    "# Please write all the code with proper documentation\n",
    "# Please write all the code with proper documentation\n",
    "from sklearn.neighbors import KNeighborsClassifier\n",
    "from sklearn.metrics import roc_auc_score\n",
    "import matplotlib.pyplot as plt\n",
    "\"\"\"\n",
    "y_true : array, shape = [n_samples] or [n_samples, n_classes]\n",
    "True binary labels or binary label indicators.\n",
    "\n",
    "y_score : array, shape = [n_samples] or [n_samples, n_classes]\n",
    "Target scores, can either be probability estimates of the positive class, confidence values, or non-thresholded measure of\n",
    "decisions (as returned by “decision_function” on some classifiers). \n",
    "For binary y_true, y_score is supposed to be the score of the class with greater label.\n",
    "\n",
    "\"\"\"\n",
    "# creating odd list of K for KNN\n",
    "K = list(range(1,200,10))\n",
    "print(K)\n",
    "\n",
    "\n",
    "train_auc = []\n",
    "cv_auc = []\n",
    "\n",
    "for i in K:\n",
    "    neigh = KNeighborsClassifier(n_neighbors=i, algorithm = 'brute')\n",
    "    neigh.fit(set1_train, y_train)\n",
    "    # roc_auc_score(y_true, y_score) the 2nd parameter should be probability estimates of the positive class\n",
    "    # not the predicted outputs\n",
    "    y_train_pred =  neigh.predict_proba(set1_train)[:,1]\n",
    "    y_cv_pred =  neigh.predict_proba(set1_cv)[:,1]\n",
    "    \n",
    "    temp_train_rocauc=roc_auc_score(y_train,y_train_pred)\n",
    "    temp_cv_rocauc=roc_auc_score(y_cv, y_cv_pred)\n",
    "    diff_train_cv_roc_auc=temp_train_rocauc-temp_cv_rocauc\n",
    "    print('K::', i)\n",
    "    print('cv_rocauc::',temp_cv_rocauc)\n",
    "    print('diff_train_cv_roc_auc',diff_train_cv_roc_auc)\n",
    "    train_auc.append(temp_train_rocauc)\n",
    "    cv_auc.append(temp_cv_rocauc)\n",
    "print(cv_auc)   \n",
    "plt.plot(K, train_auc, label='Train AUC')\n",
    "plt.plot(K, cv_auc, label='CV AUC')\n",
    "plt.legend()\n",
    "plt.xlabel(\"K: hyperparameter\")\n",
    "plt.ylabel(\"AUC\")\n",
    "plt.title(\"ERROR PLOTS\")\n",
    "plt.show()"
   ]
  },
  {
   "cell_type": "code",
   "execution_count": 43,
   "metadata": {},
   "outputs": [],
   "source": [
    "best_k_bow_brute = 191"
   ]
  },
  {
   "cell_type": "code",
   "execution_count": 86,
   "metadata": {},
   "outputs": [
    {
     "name": "stdout",
     "output_type": "stream",
     "text": [
      "auc for Test data is:: 0.7721289457352694\n"
     ]
    },
    {
     "data": {
      "image/png": "[encoded data removed]",
      "text/plain": [
       "<Figure size 432x288 with 1 Axes>"
      ]
     },
     "metadata": {
      "needs_background": "light"
     },
     "output_type": "display_data"
    },
    {
     "name": "stdout",
     "output_type": "stream",
     "text": [
      "====================================================================================================\n",
      "Train confusion matrix\n",
      "[[   88  3856]\n",
      " [   30 20470]]\n"
     ]
    },
    {
     "data": {
      "image/png": "[encoded data removed]",
      "text/plain": [
       "<Figure size 432x288 with 2 Axes>"
      ]
     },
     "metadata": {
      "needs_background": "light"
     },
     "output_type": "display_data"
    },
    {
     "data": {
      "image/png": "[encoded data removed]",
      "text/plain": [
       "<Figure size 432x288 with 2 Axes>"
      ]
     },
     "metadata": {
      "needs_background": "light"
     },
     "output_type": "display_data"
    },
    {
     "name": "stdout",
     "output_type": "stream",
     "text": [
      "Test confusion matrix\n",
      "[[   51  2918]\n",
      " [   20 14982]]\n"
     ]
    }
   ],
   "source": [
    "# https://scikit-learn.org/stable/modules/generated/sklearn.metrics.roc_curve.html#sklearn.metrics.roc_curve\n",
    "from sklearn.metrics import roc_curve, auc\n",
    "from sklearn.metrics import confusion_matrix\n",
    "\n",
    "neigh = KNeighborsClassifier(n_neighbors=best_k_bow_brute)\n",
    "neigh.fit(set1_train, y_train)\n",
    "# roc_auc_score(y_true, y_score) the 2nd parameter should be probability estimates of the positive class\n",
    "# not the predicted outputs\n",
    "\n",
    "train_fpr, train_tpr, thresholds = roc_curve(y_train, neigh.predict_proba(set1_train)[:,1])\n",
    "test_fpr, test_tpr, thresholds = roc_curve(y_test, neigh.predict_proba(set1_test)[:,1])\n",
    "\n",
    "plt.plot(train_fpr, train_tpr, label=\"train AUC =\"+str(auc(train_fpr, train_tpr)))\n",
    "plt.plot(test_fpr, test_tpr, label=\"test AUC =\"+str(auc(test_fpr, test_tpr)))\n",
    "auc_bow_brute=auc(test_fpr, test_tpr)\n",
    "print('auc for Test data is::',auc_bow_brute)\n",
    "\n",
    "plt.legend()\n",
    "plt.xlabel(\"fpr\")\n",
    "plt.ylabel(\"tpr\")\n",
    "plt.title(\"AUC PLOTS\")\n",
    "plt.show()\n",
    "\n",
    "print(\"=\"*100)\n",
    "\n",
    "#y^_train=neigh.predict(set2_train)\n",
    "#y^_test=neigh.predict(set2_test)\n",
    "yhat_train=neigh.predict(set1_train)\n",
    "yhat_test=neigh.predict(set1_test)\n",
    "\n",
    "con_mat_train = confusion_matrix(y_train, yhat_train)\n",
    "con_mat_test = confusion_matrix(y_test, yhat_test)\n",
    "\n",
    "plt.figure()\n",
    "class_label = [\"negative\", \"positive\"]\n",
    "df_con_mat_train = pd.DataFrame(con_mat_train, index = class_label, columns = class_label)\n",
    "sns.heatmap(df_con_mat_train , annot = True, fmt = \"d\")\n",
    "plt.title(\"Confusion Matrix for Train data\")\n",
    "plt.xlabel(\" Predicted Label\")\n",
    "plt.ylabel(\" Actual Label\")\n",
    "print(\"Train confusion matrix\")\n",
    "print(con_mat_train)\n",
    "\n",
    "plt.figure()\n",
    "class_label = [\"negative\", \"positive\"]\n",
    "df_con_mat_test = pd.DataFrame(con_mat_test, index = class_label, columns = class_label)\n",
    "sns.heatmap(df_con_mat_test , annot = True, fmt = \"d\")\n",
    "plt.title(\"Confusion Matrix for Test data\")\n",
    "plt.xlabel(\"Predicted Label\")\n",
    "plt.ylabel(\"Actual Label\")\n",
    "plt.show()\n",
    "print(\"Test confusion matrix\")\n",
    "print(con_mat_test)"
   ]
  },
  {
   "cell_type": "markdown",
   "metadata": {
    "colab_type": "text",
    "id": "m0UxvEKBDYM8"
   },
   "source": [
    "### [5.1.2] Applying KNN brute force on TFIDF,<font color='red'> SET 2</font>"
   ]
  },
  {
   "cell_type": "code",
   "execution_count": 45,
   "metadata": {
    "colab": {},
    "colab_type": "code",
    "id": "5ffXQxa7DYM9"
   },
   "outputs": [
    {
     "name": "stdout",
     "output_type": "stream",
     "text": [
      "[1, 11, 21, 31, 41, 51, 61, 71, 81, 91, 101, 111, 121, 131, 141, 151, 161, 171, 181, 191]\n",
      "K:: 1\n",
      "cv_rocauc:: 0.5070966703395864\n",
      "diff_train_cv_roc_auc 0.4920159057253223\n",
      "K:: 11\n",
      "cv_rocauc:: 0.4999117541995478\n",
      "diff_train_cv_roc_auc 0.27910475745136987\n",
      "K:: 21\n",
      "cv_rocauc:: 0.5075703963679914\n",
      "diff_train_cv_roc_auc 0.21755958804797848\n",
      "K:: 31\n",
      "cv_rocauc:: 0.5088646345192984\n",
      "diff_train_cv_roc_auc 0.20384759276017528\n",
      "K:: 41\n",
      "cv_rocauc:: 0.5056068202440854\n",
      "diff_train_cv_roc_auc 0.20555922388592995\n",
      "K:: 51\n",
      "cv_rocauc:: 0.5050972719124425\n",
      "diff_train_cv_roc_auc 0.2212186633767278\n",
      "K:: 61\n",
      "cv_rocauc:: 0.5001242696356353\n",
      "diff_train_cv_roc_auc 0.2625670367018702\n",
      "K:: 71\n",
      "cv_rocauc:: 0.5054464260072945\n",
      "diff_train_cv_roc_auc 0.3877038547526124\n",
      "K:: 81\n",
      "cv_rocauc:: 0.7930184295925479\n",
      "diff_train_cv_roc_auc 0.11229004144094545\n",
      "K:: 91\n",
      "cv_rocauc:: 0.8275074982479317\n",
      "diff_train_cv_roc_auc 0.06467600370625626\n",
      "K:: 101\n",
      "cv_rocauc:: 0.8443081584665838\n",
      "diff_train_cv_roc_auc 0.04729556191139073\n",
      "K:: 111\n",
      "cv_rocauc:: 0.8561899277356828\n",
      "diff_train_cv_roc_auc 0.035107820000922274\n",
      "K:: 121\n",
      "cv_rocauc:: 0.8607303920753608\n",
      "diff_train_cv_roc_auc 0.03260488720035282\n",
      "K:: 131\n",
      "cv_rocauc:: 0.8681614291033289\n",
      "diff_train_cv_roc_auc 0.024669088385415927\n",
      "K:: 141\n",
      "cv_rocauc:: 0.8728344762713769\n",
      "diff_train_cv_roc_auc 0.021544933019673418\n",
      "K:: 151\n",
      "cv_rocauc:: 0.8764502112810529\n",
      "diff_train_cv_roc_auc 0.019316677602338905\n",
      "K:: 161\n",
      "cv_rocauc:: 0.8788535301091245\n",
      "diff_train_cv_roc_auc 0.017612209761255992\n",
      "K:: 171\n",
      "cv_rocauc:: 0.8795925225602417\n",
      "diff_train_cv_roc_auc 0.01699415433086804\n",
      "K:: 181\n",
      "cv_rocauc:: 0.8822030918023355\n",
      "diff_train_cv_roc_auc 0.015196137653955\n",
      "K:: 191\n",
      "cv_rocauc:: 0.883376335212115\n",
      "diff_train_cv_roc_auc 0.014306127806734237\n",
      "[0.5070966703395864, 0.4999117541995478, 0.5075703963679914, 0.5088646345192984, 0.5056068202440854, 0.5050972719124425, 0.5001242696356353, 0.5054464260072945, 0.7930184295925479, 0.8275074982479317, 0.8443081584665838, 0.8561899277356828, 0.8607303920753608, 0.8681614291033289, 0.8728344762713769, 0.8764502112810529, 0.8788535301091245, 0.8795925225602417, 0.8822030918023355, 0.883376335212115]\n"
     ]
    },
    {
     "data": {
      "image/png": "[encoded data removed]",
      "text/plain": [
       "<Figure size 432x288 with 1 Axes>"
      ]
     },
     "metadata": {
      "needs_background": "light"
     },
     "output_type": "display_data"
    }
   ],
   "source": [
    "# Please write all the code with proper documentation\n",
    "from sklearn.neighbors import KNeighborsClassifier\n",
    "from sklearn.metrics import roc_auc_score\n",
    "import matplotlib.pyplot as plt\n",
    "\"\"\"\n",
    "y_true : array, shape = [n_samples] or [n_samples, n_classes]\n",
    "True binary labels or binary label indicators.\n",
    "\n",
    "y_score : array, shape = [n_samples] or [n_samples, n_classes]\n",
    "Target scores, can either be probability estimates of the positive class, confidence values, or non-thresholded measure of\n",
    "decisions (as returned by “decision_function” on some classifiers). \n",
    "For binary y_true, y_score is supposed to be the score of the class with greater label.\n",
    "\n",
    "\"\"\"\n",
    "# creating odd list of K for KNN\n",
    "K = list(range(1,200,10))\n",
    "print(K)\n",
    "\n",
    "\n",
    "train_auc = []\n",
    "cv_auc = []\n",
    "\n",
    "for i in K:\n",
    "    neigh = KNeighborsClassifier(n_neighbors=i, algorithm = 'brute')\n",
    "    neigh.fit(set2_train, y_train)\n",
    "    # roc_auc_score(y_true, y_score) the 2nd parameter should be probability estimates of the positive class\n",
    "    # not the predicted outputs\n",
    "    y_train_pred =  neigh.predict_proba(set2_train)[:,1]\n",
    "    y_cv_pred =  neigh.predict_proba(set2_cv)[:,1]\n",
    "    \n",
    "    temp_train_rocauc=roc_auc_score(y_train,y_train_pred)\n",
    "    temp_cv_rocauc=roc_auc_score(y_cv, y_cv_pred)\n",
    "    diff_train_cv_roc_auc=temp_train_rocauc-temp_cv_rocauc\n",
    "    print('K::', i)\n",
    "    print('cv_rocauc::',temp_cv_rocauc)\n",
    "    print('diff_train_cv_roc_auc',diff_train_cv_roc_auc)\n",
    "    train_auc.append(temp_train_rocauc)\n",
    "    cv_auc.append(temp_cv_rocauc)\n",
    "print(cv_auc)   \n",
    "plt.plot(K, train_auc, label='Train AUC')\n",
    "plt.plot(K, cv_auc, label='CV AUC')\n",
    "plt.legend()\n",
    "plt.xlabel(\"K: hyperparameter\")\n",
    "plt.ylabel(\"AUC\")\n",
    "plt.title(\"ERROR PLOTS\")\n",
    "plt.show()"
   ]
  },
  {
   "cell_type": "code",
   "execution_count": 46,
   "metadata": {},
   "outputs": [],
   "source": [
    "best_k_tfidf_brute = 191"
   ]
  },
  {
   "cell_type": "code",
   "execution_count": 83,
   "metadata": {},
   "outputs": [
    {
     "name": "stdout",
     "output_type": "stream",
     "text": [
      "auc for Test data is:: 0.8793897986611777\n"
     ]
    },
    {
     "data": {
      "image/png": "[encoded data removed]",
      "text/plain": [
       "<Figure size 432x288 with 1 Axes>"
      ]
     },
     "metadata": {
      "needs_background": "light"
     },
     "output_type": "display_data"
    },
    {
     "name": "stdout",
     "output_type": "stream",
     "text": [
      "====================================================================================================\n",
      "Train confusion matrix\n",
      "[[    7  3937]\n",
      " [    0 20500]]\n"
     ]
    },
    {
     "data": {
      "image/png": "[encoded data removed]",
      "text/plain": [
       "<Figure size 432x288 with 2 Axes>"
      ]
     },
     "metadata": {
      "needs_background": "light"
     },
     "output_type": "display_data"
    },
    {
     "data": {
      "image/png": "[encoded data removed]",
      "text/plain": [
       "<Figure size 432x288 with 2 Axes>"
      ]
     },
     "metadata": {
      "needs_background": "light"
     },
     "output_type": "display_data"
    },
    {
     "name": "stdout",
     "output_type": "stream",
     "text": [
      "Test confusion matrix\n",
      "[[    6  2963]\n",
      " [    0 15002]]\n"
     ]
    }
   ],
   "source": [
    "# https://scikit-learn.org/stable/modules/generated/sklearn.metrics.roc_curve.html#sklearn.metrics.roc_curve\n",
    "from sklearn.metrics import roc_curve, auc\n",
    "\n",
    "\n",
    "neigh = KNeighborsClassifier(n_neighbors=best_k_tfidf_brute)\n",
    "neigh.fit(set2_train, y_train)\n",
    "# roc_auc_score(y_true, y_score) the 2nd parameter should be probability estimates of the positive class\n",
    "# not the predicted outputs\n",
    "\n",
    "train_fpr, train_tpr, thresholds = roc_curve(y_train, neigh.predict_proba(set2_train)[:,1])\n",
    "test_fpr, test_tpr, thresholds = roc_curve(y_test, neigh.predict_proba(set2_test)[:,1])\n",
    "\n",
    "plt.plot(train_fpr, train_tpr, label=\"train AUC =\"+str(auc(train_fpr, train_tpr)))\n",
    "plt.plot(test_fpr, test_tpr, label=\"test AUC =\"+str(auc(test_fpr, test_tpr)))\n",
    "auc_tfidf_brute=auc(test_fpr, test_tpr)\n",
    "print('auc for Test data is::',auc_tfidf_brute)\n",
    "\n",
    "plt.legend()\n",
    "plt.xlabel(\"fpr\")\n",
    "plt.ylabel(\"tpr\")\n",
    "plt.title(\"AUC PLOTS\")\n",
    "plt.show()\n",
    "\n",
    "print(\"=\"*100)\n",
    "\n",
    "yhat_train=neigh.predict(set2_train)\n",
    "yhat_test=neigh.predict(set2_test)\n",
    "\n",
    "con_mat_train = confusion_matrix(y_train, yhat_train)\n",
    "con_mat_test = confusion_matrix(y_test, yhat_test)\n",
    "\n",
    "plt.figure()\n",
    "class_label = [\"negative\", \"positive\"]\n",
    "df_con_mat_train = pd.DataFrame(con_mat_train, index = class_label, columns = class_label)\n",
    "sns.heatmap(df_con_mat_train , annot = True, fmt = \"d\")\n",
    "plt.title(\"Confusion Matrix for Train data\")\n",
    "plt.xlabel(\"Predicted Label\")\n",
    "plt.ylabel(\"Actual Label\")\n",
    "print(\"Train confusion matrix\")\n",
    "print(con_mat_train)\n",
    "\n",
    "plt.figure()\n",
    "class_label = [\"negative\", \"positive\"]\n",
    "df_con_mat_test = pd.DataFrame(con_mat_test, index = class_label, columns = class_label)\n",
    "sns.heatmap(df_con_mat_test , annot = True, fmt = \"d\")\n",
    "plt.title(\"Confusion Matrix for Test data\")\n",
    "plt.xlabel(\"Predicted Label\")\n",
    "plt.ylabel(\"Actual Label\")\n",
    "plt.show()\n",
    "print(\"Test confusion matrix\")\n",
    "print(con_mat_test)"
   ]
  },
  {
   "cell_type": "markdown",
   "metadata": {
    "colab_type": "text",
    "id": "sgcPCRG8DYNC"
   },
   "source": [
    "### [5.1.3] Applying KNN brute force on AVG W2V,<font color='red'> SET 3</font>"
   ]
  },
  {
   "cell_type": "code",
   "execution_count": 57,
   "metadata": {},
   "outputs": [
    {
     "name": "stdout",
     "output_type": "stream",
     "text": [
      "[1, 11, 21, 31, 41, 51, 61, 71, 81, 91, 101, 111, 121, 131, 141, 151, 161, 171, 181, 191]\n",
      "K:: 1\n",
      "cv_rocauc:: 0.6592945525411416\n",
      "diff_train_cv_roc_auc 0.3398180235237671\n",
      "K:: 11\n",
      "cv_rocauc:: 0.8284262068110745\n",
      "diff_train_cv_roc_auc 0.08054708389292786\n",
      "K:: 21\n",
      "cv_rocauc:: 0.8496343454771446\n",
      "diff_train_cv_roc_auc 0.04913219091032883\n",
      "K:: 31\n",
      "cv_rocauc:: 0.8589832864519645\n",
      "diff_train_cv_roc_auc 0.03418398213755702\n",
      "K:: 41\n",
      "cv_rocauc:: 0.8611720493330048\n",
      "diff_train_cv_roc_auc 0.02845453999069769\n",
      "K:: 51\n",
      "cv_rocauc:: 0.8630925983866361\n",
      "diff_train_cv_roc_auc 0.024571652343092443\n",
      "K:: 61\n",
      "cv_rocauc:: 0.8641395820328225\n",
      "diff_train_cv_roc_auc 0.021742925511826994\n",
      "K:: 71\n",
      "cv_rocauc:: 0.8641183707956027\n",
      "diff_train_cv_roc_auc 0.02013683624936835\n",
      "K:: 81\n",
      "cv_rocauc:: 0.8647282820358958\n",
      "diff_train_cv_roc_auc 0.018421572018425536\n",
      "K:: 91\n",
      "cv_rocauc:: 0.8634437174179526\n",
      "diff_train_cv_roc_auc 0.018306369159992397\n",
      "K:: 101\n",
      "cv_rocauc:: 0.863217951256476\n",
      "diff_train_cv_roc_auc 0.0174527062411739\n",
      "K:: 111\n",
      "cv_rocauc:: 0.8641334604999907\n",
      "diff_train_cv_roc_auc 0.01577695606360685\n",
      "K:: 121\n",
      "cv_rocauc:: 0.8649377744928071\n",
      "diff_train_cv_roc_auc 0.01423226459095095\n",
      "K:: 131\n",
      "cv_rocauc:: 0.8650626235327845\n",
      "diff_train_cv_roc_auc 0.01360026050224239\n",
      "K:: 141\n",
      "cv_rocauc:: 0.8651701156339918\n",
      "diff_train_cv_roc_auc 0.012677018636032322\n",
      "K:: 151\n",
      "cv_rocauc:: 0.8653387474890378\n",
      "diff_train_cv_roc_auc 0.011359627319253773\n",
      "K:: 161\n",
      "cv_rocauc:: 0.8653025221219097\n",
      "diff_train_cv_roc_auc 0.0104282142853529\n",
      "K:: 171\n",
      "cv_rocauc:: 0.865180041082287\n",
      "diff_train_cv_roc_auc 0.009788221916773088\n",
      "K:: 181\n",
      "cv_rocauc:: 0.8647944348968686\n",
      "diff_train_cv_roc_auc 0.00957386768068047\n",
      "K:: 191\n",
      "cv_rocauc:: 0.8647772039155641\n",
      "diff_train_cv_roc_auc 0.009048959939380596\n",
      "[0.6592945525411416, 0.8284262068110745, 0.8496343454771446, 0.8589832864519645, 0.8611720493330048, 0.8630925983866361, 0.8641395820328225, 0.8641183707956027, 0.8647282820358958, 0.8634437174179526, 0.863217951256476, 0.8641334604999907, 0.8649377744928071, 0.8650626235327845, 0.8651701156339918, 0.8653387474890378, 0.8653025221219097, 0.865180041082287, 0.8647944348968686, 0.8647772039155641]\n"
     ]
    },
    {
     "data": {
      "image/png": "[encoded data removed]",
      "text/plain": [
       "<Figure size 432x288 with 1 Axes>"
      ]
     },
     "metadata": {
      "needs_background": "light"
     },
     "output_type": "display_data"
    }
   ],
   "source": [
    "# Please write all the code with proper documentation\n",
    "from sklearn.neighbors import KNeighborsClassifier\n",
    "from sklearn.metrics import roc_auc_score\n",
    "import matplotlib.pyplot as plt\n",
    "\"\"\"\n",
    "y_true : array, shape = [n_samples] or [n_samples, n_classes]\n",
    "True binary labels or binary label indicators.\n",
    "\n",
    "y_score : array, shape = [n_samples] or [n_samples, n_classes]\n",
    "Target scores, can either be probability estimates of the positive class, confidence values, or non-thresholded measure of\n",
    "decisions (as returned by “decision_function” on some classifiers). \n",
    "For binary y_true, y_score is supposed to be the score of the class with greater label.\n",
    "\n",
    "\"\"\"\n",
    "# creating odd list of K for KNN\n",
    "K = list(range(1,200,10))\n",
    "print(K)\n",
    "\n",
    "\n",
    "train_auc = []\n",
    "cv_auc = []\n",
    "\n",
    "for i in K:\n",
    "    neigh = KNeighborsClassifier(n_neighbors=i, algorithm = 'brute')\n",
    "    neigh.fit(set3_train, y_train)\n",
    "    # roc_auc_score(y_true, y_score) the 2nd parameter should be probability estimates of the positive class\n",
    "    # not the predicted outputs\n",
    "    y_train_pred =  neigh.predict_proba(set3_train)[:,1]\n",
    "    y_cv_pred =  neigh.predict_proba(set3_cv)[:,1]\n",
    "    \n",
    "    temp_train_rocauc=roc_auc_score(y_train,y_train_pred)\n",
    "    temp_cv_rocauc=roc_auc_score(y_cv, y_cv_pred)\n",
    "    diff_train_cv_roc_auc=temp_train_rocauc-temp_cv_rocauc\n",
    "    print('K::', i)\n",
    "    print('cv_rocauc::',temp_cv_rocauc)\n",
    "    print('diff_train_cv_roc_auc',diff_train_cv_roc_auc)\n",
    "    train_auc.append(temp_train_rocauc)\n",
    "    cv_auc.append(temp_cv_rocauc)\n",
    "print(cv_auc)   \n",
    "plt.plot(K, train_auc, label='Train AUC')\n",
    "plt.plot(K, cv_auc, label='CV AUC')\n",
    "plt.legend()\n",
    "plt.xlabel(\"K: hyperparameter\")\n",
    "plt.ylabel(\"AUC\")\n",
    "plt.title(\"ERROR PLOTS\")\n",
    "plt.show()"
   ]
  },
  {
   "cell_type": "code",
   "execution_count": 58,
   "metadata": {},
   "outputs": [],
   "source": [
    "best_k_avgW2V_brute = 151"
   ]
  },
  {
   "cell_type": "code",
   "execution_count": 60,
   "metadata": {},
   "outputs": [
    {
     "name": "stdout",
     "output_type": "stream",
     "text": [
      "auc for Test data is:: 0.86548688085554\n"
     ]
    },
    {
     "data": {
      "image/png": "[encoded data removed]",
      "text/plain": [
       "<Figure size 432x288 with 1 Axes>"
      ]
     },
     "metadata": {
      "needs_background": "light"
     },
     "output_type": "display_data"
    },
    {
     "name": "stdout",
     "output_type": "stream",
     "text": [
      "====================================================================================================\n",
      "Train confusion matrix\n",
      "[[  679  3265]\n",
      " [  168 20332]]\n"
     ]
    },
    {
     "data": {
      "image/png": "[encoded data removed]",
      "text/plain": [
       "<Figure size 432x288 with 2 Axes>"
      ]
     },
     "metadata": {
      "needs_background": "light"
     },
     "output_type": "display_data"
    },
    {
     "data": {
      "image/png": "[encoded data removed]",
      "text/plain": [
       "<Figure size 432x288 with 2 Axes>"
      ]
     },
     "metadata": {
      "needs_background": "light"
     },
     "output_type": "display_data"
    },
    {
     "name": "stdout",
     "output_type": "stream",
     "text": [
      "Test confusion matrix\n",
      "[[  455  2514]\n",
      " [  129 14873]]\n"
     ]
    }
   ],
   "source": [
    "# https://scikit-learn.org/stable/modules/generated/sklearn.metrics.roc_curve.html#sklearn.metrics.roc_curve\n",
    "from sklearn.metrics import roc_curve, auc\n",
    "\n",
    "\n",
    "neigh = KNeighborsClassifier(n_neighbors=best_k_avgW2V_brute)\n",
    "neigh.fit(set3_train, y_train)\n",
    "# roc_auc_score(y_true, y_score) the 2nd parameter should be probability estimates of the positive class\n",
    "# not the predicted outputs\n",
    "\n",
    "train_fpr, train_tpr, thresholds = roc_curve(y_train, neigh.predict_proba(set3_train)[:,1])\n",
    "test_fpr, test_tpr, thresholds = roc_curve(y_test, neigh.predict_proba(set3_test)[:,1])\n",
    "\n",
    "plt.plot(train_fpr, train_tpr, label=\"train AUC =\"+str(auc(train_fpr, train_tpr)))\n",
    "plt.plot(test_fpr, test_tpr, label=\"test AUC =\"+str(auc(test_fpr, test_tpr)))\n",
    "auc_avgW2V_brute=auc(test_fpr, test_tpr)\n",
    "print('auc for Test data is::',auc_avgW2V_brute)\n",
    "\n",
    "plt.legend()\n",
    "plt.xlabel(\"fpr\")\n",
    "plt.ylabel(\"tpr\")\n",
    "plt.title(\"ERROR PLOTS\")\n",
    "plt.show()\n",
    "\n",
    "print(\"=\"*100)\n",
    "\n",
    "yhat_train=neigh.predict(set3_train)\n",
    "yhat_test=neigh.predict(set3_test)\n",
    "\n",
    "con_mat_train = confusion_matrix(y_train, yhat_train)\n",
    "con_mat_test = confusion_matrix(y_test, yhat_test)\n",
    "\n",
    "plt.figure()\n",
    "class_label = [\"negative\", \"positive\"]\n",
    "df_con_mat_train = pd.DataFrame(con_mat_train, index = class_label, columns = class_label)\n",
    "sns.heatmap(df_con_mat_train , annot = True, fmt = \"d\")\n",
    "plt.title(\"Confusion Matrix for Train data\")\n",
    "plt.xlabel(\"Predicted Label\")\n",
    "plt.ylabel(\"Actual Label\")\n",
    "print(\"Train confusion matrix\")\n",
    "print(con_mat_train)\n",
    "\n",
    "plt.figure()\n",
    "class_label = [\"negative\", \"positive\"]\n",
    "df_con_mat_test = pd.DataFrame(con_mat_test, index = class_label, columns = class_label)\n",
    "sns.heatmap(df_con_mat_test , annot = True, fmt = \"d\")\n",
    "plt.title(\"Confusion Matrix for Test data\")\n",
    "plt.xlabel(\"Predicted Label\")\n",
    "plt.ylabel(\"Actual Label\")\n",
    "plt.show()\n",
    "print(\"Test confusion matrix\")\n",
    "print(con_mat_test)"
   ]
  },
  {
   "cell_type": "markdown",
   "metadata": {
    "colab_type": "text",
    "id": "L-xcoDmADYNP"
   },
   "source": [
    "### [5.1.4] Applying KNN brute force on TFIDF W2V,<font color='red'> SET 4</font>"
   ]
  },
  {
   "cell_type": "code",
   "execution_count": 61,
   "metadata": {
    "colab": {},
    "colab_type": "code",
    "id": "Z9tFDe5_DYNQ"
   },
   "outputs": [
    {
     "name": "stdout",
     "output_type": "stream",
     "text": [
      "[1, 11, 21, 31, 41, 51, 61, 71, 81, 91, 101, 111, 121, 131, 141, 151, 161, 171, 181, 191]\n",
      "K:: 1\n",
      "cv_rocauc:: 0.6210757825611384\n",
      "diff_train_cv_roc_auc 0.3780367935037703\n",
      "K:: 11\n",
      "cv_rocauc:: 0.7956089715975991\n",
      "diff_train_cv_roc_auc 0.09710281042387214\n",
      "K:: 21\n",
      "cv_rocauc:: 0.8155889493988554\n",
      "diff_train_cv_roc_auc 0.06133431780541909\n",
      "K:: 31\n",
      "cv_rocauc:: 0.822761194217847\n",
      "diff_train_cv_roc_auc 0.045051308874222484\n",
      "K:: 41\n",
      "cv_rocauc:: 0.8251622961945226\n",
      "diff_train_cv_roc_auc 0.03900254202840325\n",
      "K:: 51\n",
      "cv_rocauc:: 0.8288378861918875\n",
      "diff_train_cv_roc_auc 0.0337754505221084\n",
      "K:: 61\n",
      "cv_rocauc:: 0.8301056228924167\n",
      "diff_train_cv_roc_auc 0.03027669294392621\n",
      "K:: 71\n",
      "cv_rocauc:: 0.8318270835758015\n",
      "diff_train_cv_roc_auc 0.026199446380167468\n",
      "K:: 81\n",
      "cv_rocauc:: 0.8326412726339267\n",
      "diff_train_cv_roc_auc 0.0232844002003878\n",
      "K:: 91\n",
      "cv_rocauc:: 0.8334463423715374\n",
      "diff_train_cv_roc_auc 0.02117046982853188\n",
      "K:: 101\n",
      "cv_rocauc:: 0.8329333679968278\n",
      "diff_train_cv_roc_auc 0.02015232561619351\n",
      "K:: 111\n",
      "cv_rocauc:: 0.832851495644139\n",
      "diff_train_cv_roc_auc 0.019453512271559004\n",
      "K:: 121\n",
      "cv_rocauc:: 0.8327585390344706\n",
      "diff_train_cv_roc_auc 0.01821839412735582\n",
      "K:: 131\n",
      "cv_rocauc:: 0.8324896198452536\n",
      "diff_train_cv_roc_auc 0.017634489638741813\n",
      "K:: 141\n",
      "cv_rocauc:: 0.8331429612197117\n",
      "diff_train_cv_roc_auc 0.016395009393260218\n",
      "K:: 151\n",
      "cv_rocauc:: 0.8331699916918456\n",
      "diff_train_cv_roc_auc 0.015486974122234431\n",
      "K:: 161\n",
      "cv_rocauc:: 0.8330531787381782\n",
      "diff_train_cv_roc_auc 0.014634905662949782\n",
      "K:: 171\n",
      "cv_rocauc:: 0.8324603221387378\n",
      "diff_train_cv_roc_auc 0.014331581586587538\n",
      "K:: 181\n",
      "cv_rocauc:: 0.8324615565219011\n",
      "diff_train_cv_roc_auc 0.01336492890826757\n",
      "K:: 191\n",
      "cv_rocauc:: 0.8325321178941726\n",
      "diff_train_cv_roc_auc 0.012795128185083438\n",
      "[0.6210757825611384, 0.7956089715975991, 0.8155889493988554, 0.822761194217847, 0.8251622961945226, 0.8288378861918875, 0.8301056228924167, 0.8318270835758015, 0.8326412726339267, 0.8334463423715374, 0.8329333679968278, 0.832851495644139, 0.8327585390344706, 0.8324896198452536, 0.8331429612197117, 0.8331699916918456, 0.8330531787381782, 0.8324603221387378, 0.8324615565219011, 0.8325321178941726]\n"
     ]
    },
    {
     "data": {
      "image/png": "[encoded data removed]",
      "text/plain": [
       "<Figure size 432x288 with 1 Axes>"
      ]
     },
     "metadata": {
      "needs_background": "light"
     },
     "output_type": "display_data"
    }
   ],
   "source": [
    "# Please write all the code with proper documentation\n",
    "# Please write all the code with proper documentation\n",
    "from sklearn.neighbors import KNeighborsClassifier\n",
    "from sklearn.metrics import roc_auc_score\n",
    "import matplotlib.pyplot as plt\n",
    "\"\"\"\n",
    "y_true : array, shape = [n_samples] or [n_samples, n_classes]\n",
    "True binary labels or binary label indicators.\n",
    "\n",
    "y_score : array, shape = [n_samples] or [n_samples, n_classes]\n",
    "Target scores, can either be probability estimates of the positive class, confidence values, or non-thresholded measure of\n",
    "decisions (as returned by “decision_function” on some classifiers). \n",
    "For binary y_true, y_score is supposed to be the score of the class with greater label.\n",
    "\n",
    "\"\"\"\n",
    "# creating odd list of K for KNN\n",
    "K = list(range(1,200,10))\n",
    "print(K)\n",
    "\n",
    "\n",
    "train_auc = []\n",
    "cv_auc = []\n",
    "\n",
    "for i in K:\n",
    "    neigh = KNeighborsClassifier(n_neighbors=i, algorithm = 'brute')\n",
    "    neigh.fit(set4_train, y_train)\n",
    "    # roc_auc_score(y_true, y_score) the 2nd parameter should be probability estimates of the positive class\n",
    "    # not the predicted outputs\n",
    "    y_train_pred =  neigh.predict_proba(set4_train)[:,1]\n",
    "    y_cv_pred =  neigh.predict_proba(set4_cv)[:,1]\n",
    "    \n",
    "    temp_train_rocauc=roc_auc_score(y_train,y_train_pred)\n",
    "    temp_cv_rocauc=roc_auc_score(y_cv, y_cv_pred)\n",
    "    diff_train_cv_roc_auc=temp_train_rocauc-temp_cv_rocauc\n",
    "    print('K::', i)\n",
    "    print('cv_rocauc::',temp_cv_rocauc)\n",
    "    print('diff_train_cv_roc_auc',diff_train_cv_roc_auc)\n",
    "    train_auc.append(temp_train_rocauc)\n",
    "    cv_auc.append(temp_cv_rocauc)\n",
    "print(cv_auc)   \n",
    "plt.plot(K, train_auc, label='Train AUC')\n",
    "plt.plot(K, cv_auc, label='CV AUC')\n",
    "plt.legend()\n",
    "plt.xlabel(\"K: hyperparameter\")\n",
    "plt.ylabel(\"AUC\")\n",
    "plt.title(\"ERROR PLOTS\")\n",
    "plt.show()"
   ]
  },
  {
   "cell_type": "code",
   "execution_count": 62,
   "metadata": {},
   "outputs": [],
   "source": [
    "best_k_tfidfW2V_brute = 151"
   ]
  },
  {
   "cell_type": "code",
   "execution_count": 63,
   "metadata": {},
   "outputs": [
    {
     "name": "stdout",
     "output_type": "stream",
     "text": [
      "auc for Test data is:: 0.8345997787473627\n"
     ]
    },
    {
     "data": {
      "image/png": "[encoded data removed]",
      "text/plain": [
       "<Figure size 432x288 with 1 Axes>"
      ]
     },
     "metadata": {
      "needs_background": "light"
     },
     "output_type": "display_data"
    },
    {
     "name": "stdout",
     "output_type": "stream",
     "text": [
      "====================================================================================================\n",
      "Train confusion matrix\n",
      "[[  446  3498]\n",
      " [  112 20388]]\n"
     ]
    },
    {
     "data": {
      "image/png": "[encoded data removed]",
      "text/plain": [
       "<Figure size 432x288 with 2 Axes>"
      ]
     },
     "metadata": {
      "needs_background": "light"
     },
     "output_type": "display_data"
    },
    {
     "data": {
      "image/png": "[encoded data removed]",
      "text/plain": [
       "<Figure size 432x288 with 2 Axes>"
      ]
     },
     "metadata": {
      "needs_background": "light"
     },
     "output_type": "display_data"
    },
    {
     "name": "stdout",
     "output_type": "stream",
     "text": [
      "Test confusion matrix\n",
      "[[  290  2679]\n",
      " [   90 14912]]\n"
     ]
    }
   ],
   "source": [
    "# https://scikit-learn.org/stable/modules/generated/sklearn.metrics.roc_curve.html#sklearn.metrics.roc_curve\n",
    "from sklearn.metrics import roc_curve, auc\n",
    "\n",
    "\n",
    "neigh = KNeighborsClassifier(n_neighbors=best_k_tfidfW2V_brute)\n",
    "neigh.fit(set4_train, y_train)\n",
    "# roc_auc_score(y_true, y_score) the 2nd parameter should be probability estimates of the positive class\n",
    "# not the predicted outputs\n",
    "\n",
    "train_fpr, train_tpr, thresholds = roc_curve(y_train, neigh.predict_proba(set4_train)[:,1])\n",
    "test_fpr, test_tpr, thresholds = roc_curve(y_test, neigh.predict_proba(set4_test)[:,1])\n",
    "\n",
    "plt.plot(train_fpr, train_tpr, label=\"train AUC =\"+str(auc(train_fpr, train_tpr)))\n",
    "plt.plot(test_fpr, test_tpr, label=\"test AUC =\"+str(auc(test_fpr, test_tpr)))\n",
    "auc_iftdfW2V_brute=auc(test_fpr, test_tpr)\n",
    "print('auc for Test data is::',auc_iftdfW2V_brute)\n",
    "\n",
    "plt.legend()\n",
    "plt.xlabel(\"fpr\")\n",
    "plt.ylabel(\"tpr\")\n",
    "plt.title(\"ERROR PLOTS\")\n",
    "plt.show()\n",
    "\n",
    "print(\"=\"*100)\n",
    "\n",
    "yhat_train=neigh.predict(set4_train)\n",
    "yhat_test=neigh.predict(set4_test)\n",
    "\n",
    "con_mat_train = confusion_matrix(y_train, yhat_train)\n",
    "con_mat_test = confusion_matrix(y_test, yhat_test)\n",
    "\n",
    "plt.figure()\n",
    "class_label = [\"negative\", \"positive\"]\n",
    "df_con_mat_train = pd.DataFrame(con_mat_train, index = class_label, columns = class_label)\n",
    "sns.heatmap(df_con_mat_train , annot = True, fmt = \"d\")\n",
    "plt.title(\"Confusion Matrix for Train data\")\n",
    "plt.xlabel(\"Actual Label\")\n",
    "plt.ylabel(\"Predicted Label\")\n",
    "print(\"Train confusion matrix\")\n",
    "print(con_mat_train)\n",
    "\n",
    "plt.figure()\n",
    "class_label = [\"negative\", \"positive\"]\n",
    "df_con_mat_test = pd.DataFrame(con_mat_test, index = class_label, columns = class_label)\n",
    "sns.heatmap(df_con_mat_test , annot = True, fmt = \"d\")\n",
    "plt.title(\"Confusion Matrix for Test data\")\n",
    "plt.xlabel(\"Actual Label\")\n",
    "plt.ylabel(\"Predicted Label\")\n",
    "plt.show()\n",
    "print(\"Test confusion matrix\")\n",
    "print(con_mat_test)\n"
   ]
  },
  {
   "cell_type": "markdown",
   "metadata": {
    "colab_type": "text",
    "id": "v2x7vWX-DYNT"
   },
   "source": [
    "## [5.2] Applying KNN kd-tree"
   ]
  },
  {
   "cell_type": "markdown",
   "metadata": {
    "colab_type": "text",
    "id": "jfY8wT02DYNU"
   },
   "source": [
    "### [5.2.1] Applying KNN kd-tree on BOW,<font color='red'> SET 5</font>"
   ]
  },
  {
   "cell_type": "markdown",
   "metadata": {},
   "source": [
    "As KDTree works on dense and set 5 in sparse form need to covert it in dense using .toarray()"
   ]
  },
  {
   "cell_type": "code",
   "execution_count": 64,
   "metadata": {},
   "outputs": [
    {
     "name": "stdout",
     "output_type": "stream",
     "text": [
      "<class 'numpy.ndarray'>\n",
      "<class 'numpy.ndarray'>\n",
      "<class 'numpy.ndarray'>\n"
     ]
    }
   ],
   "source": [
    "set5_train=set5_train.toarray()\n",
    "set5_cv=set5_cv.toarray()\n",
    "set5_test=set5_test.toarray()\n",
    "print(type(set5_train))\n",
    "print(type(set5_cv))\n",
    "print(type(set5_test))"
   ]
  },
  {
   "cell_type": "code",
   "execution_count": 65,
   "metadata": {},
   "outputs": [
    {
     "name": "stdout",
     "output_type": "stream",
     "text": [
      "[1, 11, 21, 31, 41, 51, 61, 71, 81, 91]\n",
      "K:: 1\n",
      "cv_rocauc:: 0.6167180573126622\n",
      "diff_train_cv_roc_auc 0.382014194208636\n",
      "K:: 11\n",
      "cv_rocauc:: 0.7270627928196184\n",
      "diff_train_cv_roc_auc 0.11390847567095697\n",
      "K:: 21\n",
      "cv_rocauc:: 0.7550458812664469\n",
      "diff_train_cv_roc_auc 0.07218080452982278\n",
      "K:: 31\n",
      "cv_rocauc:: 0.7546746846151017\n",
      "diff_train_cv_roc_auc 0.059084665802946246\n",
      "K:: 41\n",
      "cv_rocauc:: 0.7497816905204915\n",
      "diff_train_cv_roc_auc 0.0538467416766093\n",
      "K:: 51\n",
      "cv_rocauc:: 0.7513916788467536\n",
      "diff_train_cv_roc_auc 0.04478894129869737\n",
      "K:: 61\n",
      "cv_rocauc:: 0.7525949757078432\n",
      "diff_train_cv_roc_auc 0.038442382675375586\n",
      "K:: 71\n",
      "cv_rocauc:: 0.7582128550174149\n",
      "diff_train_cv_roc_auc 0.03447101798510832\n",
      "K:: 81\n",
      "cv_rocauc:: 0.7602548774509433\n",
      "diff_train_cv_roc_auc 0.03146843798961474\n",
      "K:: 91\n",
      "cv_rocauc:: 0.7703409467063885\n",
      "diff_train_cv_roc_auc 0.0216787312236566\n",
      "[0.6167180573126622, 0.7270627928196184, 0.7550458812664469, 0.7546746846151017, 0.7497816905204915, 0.7513916788467536, 0.7525949757078432, 0.7582128550174149, 0.7602548774509433, 0.7703409467063885]\n"
     ]
    },
    {
     "data": {
      "image/png": "[encoded data removed]",
      "text/plain": [
       "<Figure size 432x288 with 1 Axes>"
      ]
     },
     "metadata": {
      "needs_background": "light"
     },
     "output_type": "display_data"
    }
   ],
   "source": [
    "# Please write all the code with proper documentation\n",
    "from sklearn.neighbors import KNeighborsClassifier\n",
    "from sklearn.metrics import roc_auc_score\n",
    "import matplotlib.pyplot as plt\n",
    "\"\"\"\n",
    "y_true : array, shape = [n_samples] or [n_samples, n_classes]\n",
    "True binary labels or binary label indicators.\n",
    "\n",
    "y_score : array, shape = [n_samples] or [n_samples, n_classes]\n",
    "Target scores, can either be probability estimates of the positive class, confidence values, or non-thresholded measure of\n",
    "decisions (as returned by “decision_function” on some classifiers). \n",
    "For binary y_true, y_score is supposed to be the score of the class with greater label.\n",
    "\n",
    "\"\"\"\n",
    "# creating odd list of K for KNN\n",
    "K = list(range(1,100,10))\n",
    "print(K)\n",
    "\n",
    "train_auc = []\n",
    "cv_auc = []\n",
    "\n",
    "for i in K:\n",
    "    neigh = KNeighborsClassifier(n_neighbors=i, algorithm = 'kd_tree')\n",
    "    neigh.fit(set5_train, y_train)\n",
    "    # roc_auc_score(y_true, y_score) the 2nd parameter should be probability estimates of the positive class\n",
    "    # not the predicted outputs\n",
    "    y_train_pred =  neigh.predict_proba(set5_train)[:,1]\n",
    "    y_cv_pred =  neigh.predict_proba(set5_cv)[:,1]\n",
    "    \n",
    "    temp_train_rocauc=roc_auc_score(y_train,y_train_pred)\n",
    "    temp_cv_rocauc=roc_auc_score(y_cv, y_cv_pred)\n",
    "    diff_train_cv_roc_auc=temp_train_rocauc-temp_cv_rocauc\n",
    "    print('K::', i)\n",
    "    print('cv_rocauc::',temp_cv_rocauc)\n",
    "    print('diff_train_cv_roc_auc',diff_train_cv_roc_auc)\n",
    "    train_auc.append(temp_train_rocauc)\n",
    "    cv_auc.append(temp_cv_rocauc)\n",
    "print(cv_auc)   \n",
    "plt.plot(K, train_auc, label='Train AUC')\n",
    "plt.plot(K, cv_auc, label='CV AUC')\n",
    "plt.legend()\n",
    "plt.xlabel(\"K: hyperparameter\")\n",
    "plt.ylabel(\"AUC\")\n",
    "plt.title(\"ERROR PLOTS\")\n",
    "plt.show()"
   ]
  },
  {
   "cell_type": "code",
   "execution_count": 66,
   "metadata": {},
   "outputs": [],
   "source": [
    "best_k_bow_kdtree = 91"
   ]
  },
  {
   "cell_type": "code",
   "execution_count": 68,
   "metadata": {},
   "outputs": [
    {
     "name": "stdout",
     "output_type": "stream",
     "text": [
      "auc for Test data is:: 0.7586212486140278\n"
     ]
    },
    {
     "data": {
      "image/png": "[encoded data removed]",
      "text/plain": [
       "<Figure size 432x288 with 1 Axes>"
      ]
     },
     "metadata": {
      "needs_background": "light"
     },
     "output_type": "display_data"
    },
    {
     "name": "stdout",
     "output_type": "stream",
     "text": [
      "====================================================================================================\n",
      "Train confusion matrix\n",
      "[[  500  3444]\n",
      " [  342 20158]]\n"
     ]
    },
    {
     "data": {
      "image/png": "[encoded data removed]",
      "text/plain": [
       "<Figure size 432x288 with 2 Axes>"
      ]
     },
     "metadata": {
      "needs_background": "light"
     },
     "output_type": "display_data"
    },
    {
     "data": {
      "image/png": "[encoded data removed]",
      "text/plain": [
       "<Figure size 432x288 with 2 Axes>"
      ]
     },
     "metadata": {
      "needs_background": "light"
     },
     "output_type": "display_data"
    },
    {
     "name": "stdout",
     "output_type": "stream",
     "text": [
      "Test confusion matrix\n",
      "[[  335  2634]\n",
      " [  272 14730]]\n"
     ]
    }
   ],
   "source": [
    "# https://scikit-learn.org/stable/modules/generated/sklearn.metrics.roc_curve.html#sklearn.metrics.roc_curve\n",
    "from sklearn.metrics import roc_curve, auc\n",
    "\n",
    "\n",
    "neigh = KNeighborsClassifier(n_neighbors=best_k_bow_kdtree)\n",
    "neigh.fit(set5_train, y_train)\n",
    "# roc_auc_score(y_true, y_score) the 2nd parameter should be probability estimates of the positive class\n",
    "# not the predicted outputs\n",
    "\n",
    "train_fpr, train_tpr, thresholds = roc_curve(y_train, neigh.predict_proba(set5_train)[:,1])\n",
    "test_fpr, test_tpr, thresholds = roc_curve(y_test, neigh.predict_proba(set5_test)[:,1])\n",
    "\n",
    "plt.plot(train_fpr, train_tpr, label=\"train AUC =\"+str(auc(train_fpr, train_tpr)))\n",
    "plt.plot(test_fpr, test_tpr, label=\"test AUC =\"+str(auc(test_fpr, test_tpr)))\n",
    "auc_bow_kdtree=auc(test_fpr, test_tpr)\n",
    "print('auc for Test data is::',auc_bow_kdtree)\n",
    "\n",
    "plt.legend()\n",
    "plt.xlabel(\"fpr\")\n",
    "plt.ylabel(\"tpr\")\n",
    "plt.title(\"ERROR PLOTS\")\n",
    "plt.show()\n",
    "\n",
    "print(\"=\"*100)\n",
    "\n",
    "yhat_train=neigh.predict(set5_train)\n",
    "yhat_test=neigh.predict(set5_test)\n",
    "\n",
    "con_mat_train = confusion_matrix(y_train, yhat_train)\n",
    "con_mat_test = confusion_matrix(y_test, yhat_test)\n",
    "\n",
    "plt.figure()\n",
    "class_label = [\"negative\", \"positive\"]\n",
    "df_con_mat_train = pd.DataFrame(con_mat_train, index = class_label, columns = class_label)\n",
    "sns.heatmap(df_con_mat_train , annot = True, fmt = \"d\")\n",
    "plt.title(\"Confusion Matrix for Train data\")\n",
    "plt.xlabel(\"Actual Label\")\n",
    "plt.ylabel(\"Predicted Label\")\n",
    "print(\"Train confusion matrix\")\n",
    "print(con_mat_train)\n",
    "\n",
    "plt.figure()\n",
    "class_label = [\"negative\", \"positive\"]\n",
    "df_con_mat_test = pd.DataFrame(con_mat_test, index = class_label, columns = class_label)\n",
    "sns.heatmap(df_con_mat_test , annot = True, fmt = \"d\")\n",
    "plt.title(\"Confusion Matrix for Test data\")\n",
    "plt.xlabel(\"Actual Label\")\n",
    "plt.ylabel(\"Predicted Label\")\n",
    "plt.show()\n",
    "print(\"Test confusion matrix\")\n",
    "print(con_mat_test)\n"
   ]
  },
  {
   "cell_type": "markdown",
   "metadata": {
    "colab_type": "text",
    "id": "kG-xYnK7DYNt"
   },
   "source": [
    "### [5.2.2] Applying KNN kd-tree on TFIDF,<font color='red'> SET 6</font>"
   ]
  },
  {
   "cell_type": "code",
   "execution_count": 69,
   "metadata": {},
   "outputs": [
    {
     "name": "stdout",
     "output_type": "stream",
     "text": [
      "<class 'numpy.ndarray'>\n",
      "<class 'numpy.ndarray'>\n",
      "<class 'numpy.ndarray'>\n"
     ]
    }
   ],
   "source": [
    "set6_train=set6_train.toarray()\n",
    "set6_cv=set6_cv.toarray()\n",
    "set6_test=set6_test.toarray()\n",
    "print(type(set6_train))\n",
    "print(type(set6_cv))\n",
    "print(type(set6_test))"
   ]
  },
  {
   "cell_type": "code",
   "execution_count": 70,
   "metadata": {},
   "outputs": [
    {
     "name": "stdout",
     "output_type": "stream",
     "text": [
      "[1, 11, 21, 31, 41, 51, 61, 71, 81, 91]\n",
      "K:: 1\n",
      "cv_rocauc:: 0.5676426354937054\n",
      "diff_train_cv_roc_auc 0.43108961602759277\n",
      "K:: 11\n",
      "cv_rocauc:: 0.5950578824937766\n",
      "diff_train_cv_roc_auc 0.20421162846451757\n",
      "K:: 21\n",
      "cv_rocauc:: 0.5615044762764152\n",
      "diff_train_cv_roc_auc 0.1969212893199831\n",
      "K:: 31\n",
      "cv_rocauc:: 0.5982544814406713\n",
      "diff_train_cv_roc_auc 0.22195455482311943\n",
      "K:: 41\n",
      "cv_rocauc:: 0.6089808176856374\n",
      "diff_train_cv_roc_auc 0.23188724371049374\n",
      "K:: 51\n",
      "cv_rocauc:: 0.6126054452923901\n",
      "diff_train_cv_roc_auc 0.205922228729279\n",
      "K:: 61\n",
      "cv_rocauc:: 0.6035415208709002\n",
      "diff_train_cv_roc_auc 0.1730250575687179\n",
      "K:: 71\n",
      "cv_rocauc:: 0.6140970336009174\n",
      "diff_train_cv_roc_auc 0.2324923766795951\n",
      "K:: 81\n",
      "cv_rocauc:: 0.6111756517165232\n",
      "diff_train_cv_roc_auc 0.2358311632045671\n",
      "K:: 91\n",
      "cv_rocauc:: 0.7607520567594569\n",
      "diff_train_cv_roc_auc 0.09810803328160589\n",
      "[0.5676426354937054, 0.5950578824937766, 0.5615044762764152, 0.5982544814406713, 0.6089808176856374, 0.6126054452923901, 0.6035415208709002, 0.6140970336009174, 0.6111756517165232, 0.7607520567594569]\n"
     ]
    },
    {
     "data": {
      "image/png": "[encoded data removed]",
      "text/plain": [
       "<Figure size 432x288 with 1 Axes>"
      ]
     },
     "metadata": {
      "needs_background": "light"
     },
     "output_type": "display_data"
    }
   ],
   "source": [
    "# Please write all the code with proper documentation\n",
    "from sklearn.neighbors import KNeighborsClassifier\n",
    "from sklearn.metrics import roc_auc_score\n",
    "import matplotlib.pyplot as plt\n",
    "\"\"\"\n",
    "y_true : array, shape = [n_samples] or [n_samples, n_classes]\n",
    "True binary labels or binary label indicators.\n",
    "\n",
    "y_score : array, shape = [n_samples] or [n_samples, n_classes]\n",
    "Target scores, can either be probability estimates of the positive class, confidence values, or non-thresholded measure of\n",
    "decisions (as returned by “decision_function” on some classifiers). \n",
    "For binary y_true, y_score is supposed to be the score of the class with greater label.\n",
    "\n",
    "\"\"\"\n",
    "# creating odd list of K for KNN\n",
    "K = list(range(1,100,10))\n",
    "print(K)\n",
    "\n",
    "train_auc = []\n",
    "cv_auc = []\n",
    "\n",
    "for i in K:\n",
    "    neigh = KNeighborsClassifier(n_neighbors=i, algorithm = 'kd_tree')\n",
    "    neigh.fit(set6_train, y_train)\n",
    "    # roc_auc_score(y_true, y_score) the 2nd parameter should be probability estimates of the positive class\n",
    "    # not the predicted outputs\n",
    "    y_train_pred =  neigh.predict_proba(set6_train)[:,1]\n",
    "    y_cv_pred =  neigh.predict_proba(set6_cv)[:,1]\n",
    "    \n",
    "    temp_train_rocauc=roc_auc_score(y_train,y_train_pred)\n",
    "    temp_cv_rocauc=roc_auc_score(y_cv, y_cv_pred)\n",
    "    diff_train_cv_roc_auc=temp_train_rocauc-temp_cv_rocauc\n",
    "    print('K::', i)\n",
    "    print('cv_rocauc::',temp_cv_rocauc)\n",
    "    print('diff_train_cv_roc_auc',diff_train_cv_roc_auc)\n",
    "    train_auc.append(temp_train_rocauc)\n",
    "    cv_auc.append(temp_cv_rocauc)\n",
    "print(cv_auc)   \n",
    "plt.plot(K, train_auc, label='Train AUC')\n",
    "plt.plot(K, cv_auc, label='CV AUC')\n",
    "plt.legend()\n",
    "plt.xlabel(\"K: hyperparameter\")\n",
    "plt.ylabel(\"AUC\")\n",
    "plt.title(\"ERROR PLOTS\")\n",
    "plt.show()"
   ]
  },
  {
   "cell_type": "code",
   "execution_count": 78,
   "metadata": {},
   "outputs": [],
   "source": [
    "best_k_tfidf_kdtree= 91"
   ]
  },
  {
   "cell_type": "code",
   "execution_count": 79,
   "metadata": {},
   "outputs": [
    {
     "name": "stdout",
     "output_type": "stream",
     "text": [
      "auc for Test data is:: 0.7580545227853082\n"
     ]
    },
    {
     "data": {
      "image/png": "[encoded data removed]",
      "text/plain": [
       "<Figure size 432x288 with 1 Axes>"
      ]
     },
     "metadata": {
      "needs_background": "light"
     },
     "output_type": "display_data"
    },
    {
     "name": "stdout",
     "output_type": "stream",
     "text": [
      "====================================================================================================\n"
     ]
    },
    {
     "data": {
      "image/png": "[encoded data removed]",
      "text/plain": [
       "<Figure size 432x288 with 2 Axes>"
      ]
     },
     "metadata": {
      "needs_background": "light"
     },
     "output_type": "display_data"
    },
    {
     "data": {
      "image/png": "[encoded data removed]",
      "text/plain": [
       "<Figure size 432x288 with 2 Axes>"
      ]
     },
     "metadata": {
      "needs_background": "light"
     },
     "output_type": "display_data"
    }
   ],
   "source": [
    "# https://scikit-learn.org/stable/modules/generated/sklearn.metrics.roc_curve.html#sklearn.metrics.roc_curve\n",
    "from sklearn.metrics import roc_curve, auc\n",
    "\n",
    "\n",
    "neigh = KNeighborsClassifier(n_neighbors=best_k_tfidf_kdtree)\n",
    "neigh.fit(set6_train, y_train)\n",
    "# roc_auc_score(y_true, y_score) the 2nd parameter should be probability estimates of the positive class\n",
    "# not the predicted outputs\n",
    "\n",
    "train_fpr, train_tpr, thresholds = roc_curve(y_train, neigh.predict_proba(set6_train)[:,1])\n",
    "test_fpr, test_tpr, thresholds = roc_curve(y_test, neigh.predict_proba(set6_test)[:,1])\n",
    "\n",
    "plt.plot(train_fpr, train_tpr, label=\"train AUC =\"+str(auc(train_fpr, train_tpr)))\n",
    "plt.plot(test_fpr, test_tpr, label=\"test AUC =\"+str(auc(test_fpr, test_tpr)))\n",
    "auc_tfidf_kdtree=auc(test_fpr, test_tpr)\n",
    "print('auc for Test data is::',auc_tfidf_kdtree)\n",
    "\n",
    "plt.legend()\n",
    "plt.xlabel(\"fpr\")\n",
    "plt.ylabel(\"tpr\")\n",
    "plt.title(\"ERROR PLOTS\")\n",
    "plt.show()\n",
    "\n",
    "print(\"=\"*100)\n",
    "\n",
    "yhat_train=neigh.predict(set6_train)\n",
    "yhat_test=neigh.predict(set6_test)\n",
    "\n",
    "con_mat_train = confusion_matrix(y_train, yhat_train)\n",
    "con_mat_test = confusion_matrix(y_test, yhat_test)\n",
    "\n",
    "plt.figure()\n",
    "class_label = [\"negative\", \"positive\"]\n",
    "df_con_mat_train = pd.DataFrame(con_mat_train, index = class_label, columns = class_label)\n",
    "sns.heatmap(df_con_mat_train , annot = True, fmt = \"d\")\n",
    "plt.title(\"Confusion Matrix for Train data\")\n",
    "plt.xlabel(\"Predicted Label\")\n",
    "plt.ylabel(\" Actual Label\") \n",
    "#print(\"Train confusion matrix\")\n",
    "#print(con_mat_train)\n",
    "\n",
    "plt.figure()\n",
    "class_label = [\"negative\", \"positive\"]\n",
    "df_con_mat_test = pd.DataFrame(con_mat_test, index = class_label, columns = class_label)\n",
    "sns.heatmap(df_con_mat_test , annot = True, fmt = \"d\")\n",
    "plt.title(\"Confusion Matrix for Test data\")\n",
    "plt.xlabel(\"Predicted Label\")\n",
    "plt.ylabel(\" Actual Label\") \n",
    "plt.show()\n",
    "#print(\"Test confusion matrix\")\n",
    "#print(con_mat_test)\n"
   ]
  },
  {
   "cell_type": "markdown",
   "metadata": {
    "colab_type": "text",
    "id": "ddU0dZI0DYNx"
   },
   "source": [
    "### [5.2.3] Applying KNN kd-tree on AVG W2V,<font color='red'> SET 3</font>"
   ]
  },
  {
   "cell_type": "code",
   "execution_count": 72,
   "metadata": {
    "colab": {},
    "colab_type": "code",
    "id": "YAl6PXWcDYNy"
   },
   "outputs": [
    {
     "name": "stdout",
     "output_type": "stream",
     "text": [
      "[1, 11, 21, 31, 41, 51, 61, 71, 81, 91]\n",
      "K:: 1\n",
      "cv_rocauc:: 0.6592945525411416\n",
      "diff_train_cv_roc_auc 0.3398180235237671\n",
      "K:: 11\n",
      "cv_rocauc:: 0.8284262068110745\n",
      "diff_train_cv_roc_auc 0.08054708389292786\n",
      "K:: 21\n",
      "cv_rocauc:: 0.8493822290138489\n",
      "diff_train_cv_roc_auc 0.04874286993237387\n",
      "K:: 31\n",
      "cv_rocauc:: 0.8588264694071988\n",
      "diff_train_cv_roc_auc 0.03390076677743481\n",
      "K:: 41\n",
      "cv_rocauc:: 0.8610636251465515\n",
      "diff_train_cv_roc_auc 0.028222787063412302\n",
      "K:: 51\n",
      "cv_rocauc:: 0.8630034960754173\n",
      "diff_train_cv_roc_auc 0.024389617267481012\n",
      "K:: 61\n",
      "cv_rocauc:: 0.8641525052688008\n",
      "diff_train_cv_roc_auc 0.021730002275848648\n",
      "K:: 71\n",
      "cv_rocauc:: 0.8641234090942298\n",
      "diff_train_cv_roc_auc 0.02013179795074127\n",
      "K:: 81\n",
      "cv_rocauc:: 0.8647367715690824\n",
      "diff_train_cv_roc_auc 0.018413082485238985\n",
      "K:: 91\n",
      "cv_rocauc:: 0.8634437174179526\n",
      "diff_train_cv_roc_auc 0.018306369159992397\n",
      "[0.6592945525411416, 0.8284262068110745, 0.8493822290138489, 0.8588264694071988, 0.8610636251465515, 0.8630034960754173, 0.8641525052688008, 0.8641234090942298, 0.8647367715690824, 0.8634437174179526]\n"
     ]
    },
    {
     "data": {
      "image/png": "[encoded data removed]",
      "text/plain": [
       "<Figure size 432x288 with 1 Axes>"
      ]
     },
     "metadata": {
      "needs_background": "light"
     },
     "output_type": "display_data"
    }
   ],
   "source": [
    "# Please write all the code with proper documentation\n",
    "# Please write all the code with proper documentation\n",
    "from sklearn.neighbors import KNeighborsClassifier\n",
    "from sklearn.metrics import roc_auc_score\n",
    "import matplotlib.pyplot as plt\n",
    "\"\"\"\n",
    "y_true : array, shape = [n_samples] or [n_samples, n_classes]\n",
    "True binary labels or binary label indicators.\n",
    "\n",
    "y_score : array, shape = [n_samples] or [n_samples, n_classes]\n",
    "Target scores, can either be probability estimates of the positive class, confidence values, or non-thresholded measure of\n",
    "decisions (as returned by “decision_function” on some classifiers). \n",
    "For binary y_true, y_score is supposed to be the score of the class with greater label.\n",
    "\n",
    "\"\"\"\n",
    "# creating odd list of K for KNN\n",
    "K = list(range(1,100,10))\n",
    "print(K)\n",
    "\n",
    "train_auc = []\n",
    "cv_auc = []\n",
    "\n",
    "for i in K:\n",
    "    neigh = KNeighborsClassifier(n_neighbors=i, algorithm = 'kd_tree')\n",
    "    neigh.fit(set3_train, y_train)\n",
    "    # roc_auc_score(y_true, y_score) the 2nd parameter should be probability estimates of the positive class\n",
    "    # not the predicted outputs\n",
    "    y_train_pred =  neigh.predict_proba(set3_train)[:,1]\n",
    "    y_cv_pred =  neigh.predict_proba(set3_cv)[:,1]\n",
    "    \n",
    "    temp_train_rocauc=roc_auc_score(y_train,y_train_pred)\n",
    "    temp_cv_rocauc=roc_auc_score(y_cv, y_cv_pred)\n",
    "    diff_train_cv_roc_auc=temp_train_rocauc-temp_cv_rocauc\n",
    "    print('K::', i)\n",
    "    print('cv_rocauc::',temp_cv_rocauc)\n",
    "    print('diff_train_cv_roc_auc',diff_train_cv_roc_auc)\n",
    "    train_auc.append(temp_train_rocauc)\n",
    "    cv_auc.append(temp_cv_rocauc)\n",
    "print(cv_auc)   \n",
    "plt.plot(K, train_auc, label='Train AUC')\n",
    "plt.plot(K, cv_auc, label='CV AUC')\n",
    "plt.legend()\n",
    "plt.xlabel(\"K: hyperparameter\")\n",
    "plt.ylabel(\"AUC\")\n",
    "plt.title(\"ERROR PLOTS\")\n",
    "plt.show()"
   ]
  },
  {
   "cell_type": "code",
   "execution_count": 73,
   "metadata": {},
   "outputs": [],
   "source": [
    "best_k_avgW2V_kdtree = 81"
   ]
  },
  {
   "cell_type": "code",
   "execution_count": 74,
   "metadata": {},
   "outputs": [
    {
     "name": "stdout",
     "output_type": "stream",
     "text": [
      "auc for Test data is:: 0.864423847562438\n"
     ]
    },
    {
     "data": {
      "image/png": "[encoded data removed]",
      "text/plain": [
       "<Figure size 432x288 with 1 Axes>"
      ]
     },
     "metadata": {
      "needs_background": "light"
     },
     "output_type": "display_data"
    },
    {
     "name": "stdout",
     "output_type": "stream",
     "text": [
      "====================================================================================================\n",
      "Train confusion matrix\n",
      "[[  847  3097]\n",
      " [  238 20262]]\n"
     ]
    },
    {
     "data": {
      "image/png": "[encoded data removed]",
      "text/plain": [
       "<Figure size 432x288 with 2 Axes>"
      ]
     },
     "metadata": {
      "needs_background": "light"
     },
     "output_type": "display_data"
    },
    {
     "data": {
      "image/png": "[encoded data removed]",
      "text/plain": [
       "<Figure size 432x288 with 2 Axes>"
      ]
     },
     "metadata": {
      "needs_background": "light"
     },
     "output_type": "display_data"
    },
    {
     "name": "stdout",
     "output_type": "stream",
     "text": [
      "Test confusion matrix\n",
      "[[  576  2393]\n",
      " [  166 14836]]\n"
     ]
    }
   ],
   "source": [
    "# https://scikit-learn.org/stable/modules/generated/sklearn.metrics.roc_curve.html#sklearn.metrics.roc_curve\n",
    "from sklearn.metrics import roc_curve, auc\n",
    "\n",
    "\n",
    "neigh = KNeighborsClassifier(n_neighbors=best_k_avgW2V_kdtree)\n",
    "neigh.fit(set3_train, y_train)\n",
    "# roc_auc_score(y_true, y_score) the 2nd parameter should be probability estimates of the positive class\n",
    "# not the predicted outputs\n",
    "\n",
    "train_fpr, train_tpr, thresholds = roc_curve(y_train, neigh.predict_proba(set3_train)[:,1])\n",
    "test_fpr, test_tpr, thresholds = roc_curve(y_test, neigh.predict_proba(set3_test)[:,1])\n",
    "\n",
    "plt.plot(train_fpr, train_tpr, label=\"train AUC =\"+str(auc(train_fpr, train_tpr)))\n",
    "plt.plot(test_fpr, test_tpr, label=\"test AUC =\"+str(auc(test_fpr, test_tpr)))\n",
    "auc_avgW2V_kdtree=auc(test_fpr, test_tpr)\n",
    "print('auc for Test data is::',auc_avgW2V_kdtree)\n",
    "\n",
    "plt.legend()\n",
    "plt.xlabel(\"fpr\")\n",
    "plt.ylabel(\"tpr\")\n",
    "plt.title(\"ERROR PLOTS\")\n",
    "plt.show()\n",
    "\n",
    "print(\"=\"*100)\n",
    "\n",
    "yhat_train=neigh.predict(set3_train)\n",
    "yhat_test=neigh.predict(set3_test)\n",
    "\n",
    "con_mat_train = confusion_matrix(y_train, yhat_train)\n",
    "con_mat_test = confusion_matrix(y_test, yhat_test)\n",
    "\n",
    "plt.figure()\n",
    "class_label = [\"negative\", \"positive\"]\n",
    "df_con_mat_train = pd.DataFrame(con_mat_train, index = class_label, columns = class_label)\n",
    "sns.heatmap(df_con_mat_train , annot = True, fmt = \"d\")\n",
    "plt.title(\"Confusion Matrix for Train data\")\n",
    "plt.xlabel(\"Predicted Label\")\n",
    "plt.ylabel(\" Actual Label\") \n",
    "print(\"Train confusion matrix\")\n",
    "print(con_mat_train)\n",
    "\n",
    "plt.figure()\n",
    "class_label = [\"negative\", \"positive\"]\n",
    "df_con_mat_test = pd.DataFrame(con_mat_test, index = class_label, columns = class_label)\n",
    "sns.heatmap(df_con_mat_test , annot = True, fmt = \"d\")\n",
    "plt.title(\"Confusion Matrix for Test data\")\n",
    "plt.xlabel(\"Predicted Label\")\n",
    "plt.ylabel(\" Actual Label\") \n",
    "plt.show()\n",
    "print(\"Test confusion matrix\")\n",
    "print(con_mat_test)\n"
   ]
  },
  {
   "cell_type": "markdown",
   "metadata": {
    "colab_type": "text",
    "id": "IQUILTzFDYN0"
   },
   "source": [
    "### [5.2.4] Applying KNN kd-tree on TFIDF W2V,<font color='red'> SET 4</font>"
   ]
  },
  {
   "cell_type": "code",
   "execution_count": 75,
   "metadata": {
    "colab": {},
    "colab_type": "code",
    "id": "vNmmBe5hDYN1"
   },
   "outputs": [
    {
     "name": "stdout",
     "output_type": "stream",
     "text": [
      "[1, 11, 21, 31, 41, 51, 61, 71, 81, 91]\n",
      "K:: 1\n",
      "cv_rocauc:: 0.6210757825611384\n",
      "diff_train_cv_roc_auc 0.3780367935037703\n",
      "K:: 11\n",
      "cv_rocauc:: 0.7955451111625016\n",
      "diff_train_cv_roc_auc 0.09669148780845771\n",
      "K:: 21\n",
      "cv_rocauc:: 0.8155573340749709\n",
      "diff_train_cv_roc_auc 0.06113173360424551\n",
      "K:: 31\n",
      "cv_rocauc:: 0.8227650737077898\n",
      "diff_train_cv_roc_auc 0.04505015658954359\n",
      "K:: 41\n",
      "cv_rocauc:: 0.8251341572966907\n",
      "diff_train_cv_roc_auc 0.03892053522792227\n",
      "K:: 51\n",
      "cv_rocauc:: 0.8287755876293645\n",
      "diff_train_cv_roc_auc 0.03355227067964439\n",
      "K:: 61\n",
      "cv_rocauc:: 0.83008234595276\n",
      "diff_train_cv_roc_auc 0.03021699110754772\n",
      "K:: 71\n",
      "cv_rocauc:: 0.8318270835758015\n",
      "diff_train_cv_roc_auc 0.02620083781142457\n",
      "K:: 81\n",
      "cv_rocauc:: 0.8326412726339267\n",
      "diff_train_cv_roc_auc 0.023285482424698856\n",
      "K:: 91\n",
      "cv_rocauc:: 0.8334463423715374\n",
      "diff_train_cv_roc_auc 0.02117046982853188\n",
      "[0.6210757825611384, 0.7955451111625016, 0.8155573340749709, 0.8227650737077898, 0.8251341572966907, 0.8287755876293645, 0.83008234595276, 0.8318270835758015, 0.8326412726339267, 0.8334463423715374]\n"
     ]
    },
    {
     "data": {
      "image/png": "[encoded data removed]",
      "text/plain": [
       "<Figure size 432x288 with 1 Axes>"
      ]
     },
     "metadata": {
      "needs_background": "light"
     },
     "output_type": "display_data"
    }
   ],
   "source": [
    "# Please write all the code with proper documentation\n",
    "# Please write all the code with proper documentation\n",
    "from sklearn.neighbors import KNeighborsClassifier\n",
    "from sklearn.metrics import roc_auc_score\n",
    "import matplotlib.pyplot as plt\n",
    "\"\"\"\n",
    "y_true : array, shape = [n_samples] or [n_samples, n_classes]\n",
    "True binary labels or binary label indicators.\n",
    "\n",
    "y_score : array, shape = [n_samples] or [n_samples, n_classes]\n",
    "Target scores, can either be probability estimates of the positive class, confidence values, or non-thresholded measure of\n",
    "decisions (as returned by “decision_function” on some classifiers). \n",
    "For binary y_true, y_score is supposed to be the score of the class with greater label.\n",
    "\n",
    "\"\"\"\n",
    "# creating odd list of K for KNN\n",
    "K = list(range(1,100,10))\n",
    "print(K)\n",
    "\n",
    "train_auc = []\n",
    "cv_auc = []\n",
    "\n",
    "for i in K:\n",
    "    neigh = KNeighborsClassifier(n_neighbors=i, algorithm = 'kd_tree')\n",
    "    neigh.fit(set4_train, y_train)\n",
    "    # roc_auc_score(y_true, y_score) the 2nd parameter should be probability estimates of the positive class\n",
    "    # not the predicted outputs\n",
    "    y_train_pred =  neigh.predict_proba(set4_train)[:,1]\n",
    "    y_cv_pred =  neigh.predict_proba(set4_cv)[:,1]\n",
    "    \n",
    "    temp_train_rocauc=roc_auc_score(y_train,y_train_pred)\n",
    "    temp_cv_rocauc=roc_auc_score(y_cv, y_cv_pred)\n",
    "    diff_train_cv_roc_auc=temp_train_rocauc-temp_cv_rocauc\n",
    "    print('K::', i)\n",
    "    print('cv_rocauc::',temp_cv_rocauc)\n",
    "    print('diff_train_cv_roc_auc',diff_train_cv_roc_auc)\n",
    "    train_auc.append(temp_train_rocauc)\n",
    "    cv_auc.append(temp_cv_rocauc)\n",
    "print(cv_auc)   \n",
    "plt.plot(K, train_auc, label='Train AUC')\n",
    "plt.plot(K, cv_auc, label='CV AUC')\n",
    "plt.legend()\n",
    "plt.xlabel(\"K: hyperparameter\")\n",
    "plt.ylabel(\"AUC\")\n",
    "plt.title(\"ERROR PLOTS\")\n",
    "plt.show()"
   ]
  },
  {
   "cell_type": "code",
   "execution_count": 76,
   "metadata": {},
   "outputs": [],
   "source": [
    "best_k_tfidfW2V_kdtree = 91"
   ]
  },
  {
   "cell_type": "code",
   "execution_count": 77,
   "metadata": {},
   "outputs": [
    {
     "name": "stdout",
     "output_type": "stream",
     "text": [
      "auc for Test data is:: 0.8347305011852242\n"
     ]
    },
    {
     "data": {
      "image/png": "[encoded data removed]",
      "text/plain": [
       "<Figure size 432x288 with 1 Axes>"
      ]
     },
     "metadata": {
      "needs_background": "light"
     },
     "output_type": "display_data"
    },
    {
     "name": "stdout",
     "output_type": "stream",
     "text": [
      "====================================================================================================\n",
      "Train confusion matrix\n",
      "[[  561  3383]\n",
      " [  143 20357]]\n"
     ]
    },
    {
     "data": {
      "image/png": "[encoded data removed]",
      "text/plain": [
       "<Figure size 432x288 with 2 Axes>"
      ]
     },
     "metadata": {
      "needs_background": "light"
     },
     "output_type": "display_data"
    },
    {
     "data": {
      "image/png": "[encoded data removed]",
      "text/plain": [
       "<Figure size 432x288 with 2 Axes>"
      ]
     },
     "metadata": {
      "needs_background": "light"
     },
     "output_type": "display_data"
    },
    {
     "name": "stdout",
     "output_type": "stream",
     "text": [
      "Test confusion matrix\n",
      "[[  389  2580]\n",
      " [  117 14885]]\n"
     ]
    }
   ],
   "source": [
    "# https://scikit-learn.org/stable/modules/generated/sklearn.metrics.roc_curve.html#sklearn.metrics.roc_curve\n",
    "from sklearn.metrics import roc_curve, auc\n",
    "\n",
    "\n",
    "neigh = KNeighborsClassifier(n_neighbors=best_k_tfidfW2V_kdtree)\n",
    "neigh.fit(set4_train, y_train)\n",
    "# roc_auc_score(y_true, y_score) the 2nd parameter should be probability estimates of the positive class\n",
    "# not the predicted outputs\n",
    "\n",
    "train_fpr, train_tpr, thresholds = roc_curve(y_train, neigh.predict_proba(set4_train)[:,1])\n",
    "test_fpr, test_tpr, thresholds = roc_curve(y_test, neigh.predict_proba(set4_test)[:,1])\n",
    "\n",
    "plt.plot(train_fpr, train_tpr, label=\"train AUC =\"+str(auc(train_fpr, train_tpr)))\n",
    "plt.plot(test_fpr, test_tpr, label=\"test AUC =\"+str(auc(test_fpr, test_tpr)))\n",
    "auc_tfidfW2V_kdtree=auc(test_fpr, test_tpr)\n",
    "print('auc for Test data is::',auc_tfidfW2V_kdtree)\n",
    "\n",
    "plt.legend()\n",
    "plt.xlabel(\"fpr\")\n",
    "plt.ylabel(\"tpr\")\n",
    "plt.title(\"ERROR PLOTS\")\n",
    "plt.show()\n",
    "\n",
    "print(\"=\"*100)\n",
    "\n",
    "yhat_train=neigh.predict(set4_train)\n",
    "yhat_test=neigh.predict(set4_test)\n",
    "\n",
    "con_mat_train = confusion_matrix(y_train, yhat_train)\n",
    "con_mat_test = confusion_matrix(y_test, yhat_test)\n",
    "\n",
    "plt.figure()\n",
    "class_label = [\"negative\", \"positive\"]\n",
    "df_con_mat_train = pd.DataFrame(con_mat_train, index = class_label, columns = class_label)\n",
    "sns.heatmap(df_con_mat_train , annot = True, fmt = \"d\")\n",
    "plt.title(\"Confusion Matrix for Train data\")\n",
    "plt.xlabel(\"Predicted Label\")\n",
    "plt.ylabel(\" Actual Label\") \n",
    "print(\"Train confusion matrix\")\n",
    "print(con_mat_train)\n",
    "\n",
    "plt.figure()\n",
    "class_label = [\"negative\", \"positive\"]\n",
    "df_con_mat_test = pd.DataFrame(con_mat_test, index = class_label, columns = class_label)\n",
    "sns.heatmap(df_con_mat_test , annot = True, fmt = \"d\")\n",
    "plt.title(\"Confusion Matrix for Test data\")\n",
    "plt.xlabel(\"Predicted Label\")\n",
    "plt.ylabel(\" Actual Label\") \n",
    "plt.show()\n",
    "print(\"Test confusion matrix\")\n",
    "print(con_mat_test)\n"
   ]
  },
  {
   "cell_type": "markdown",
   "metadata": {
    "colab_type": "text",
    "id": "crZ4qBCyDYN7"
   },
   "source": [
    "# [6] Conclusions"
   ]
  },
  {
   "cell_type": "code",
   "execution_count": 87,
   "metadata": {
    "colab": {},
    "colab_type": "code",
    "id": "9OacHxi1DYN8"
   },
   "outputs": [
    {
     "name": "stdout",
     "output_type": "stream",
     "text": [
      "+------------+---------+--------+----------------+--------------------+\n",
      "| Vectorizer | dataset | Model  | Hyperparameter |        AUC         |\n",
      "+------------+---------+--------+----------------+--------------------+\n",
      "|    BoW     |   set1  | brute  |      191       | 0.7721289457352694 |\n",
      "|   TfIdf    |   set2  | brute  |      191       | 0.8793897986611777 |\n",
      "|   AvgW2V   |   set3  | brute  |      151       |  0.86548688085554  |\n",
      "|  TfIdfW2V  |   set4  | brute  |      151       | 0.8345997787473627 |\n",
      "|    BoW     |   set5  | kdtree |       91       | 0.7586212486140278 |\n",
      "|   TfIdf    |   set6  | kdtree |       91       | 0.7580545227853082 |\n",
      "|   AvgW2V   |   set3  | kdtree |       81       | 0.864423847562438  |\n",
      "|  TfIdfW2V  |   set4  | kdtree |       91       | 0.8347305011852242 |\n",
      "+------------+---------+--------+----------------+--------------------+\n"
     ]
    }
   ],
   "source": [
    "# Please compare all your models using Prettytable library\n",
    "#best_k_bow_kdtree = 41\n",
    "#auc_tfidfW2V_kdtree\n",
    "from prettytable import PrettyTable\n",
    "result=PrettyTable()\n",
    "result.field_names=[\"Vectorizer\",\"dataset\",\"Model\",\"Hyperparameter\",\"AUC\"]\n",
    "result.add_row([\"BoW\",\"set1\",\"brute\",best_k_bow_brute,auc_bow_brute])\n",
    "result.add_row([\"TfIdf\",\"set2\",\"brute\",best_k_tfidf_brute,auc_tfidf_brute])\n",
    "result.add_row([\"AvgW2V\",\"set3\",\"brute\",best_k_avgW2V_brute,auc_avgW2V_brute])\n",
    "result.add_row([\"TfIdfW2V\",\"set4\",\"brute\",best_k_tfidfW2V_brute,auc_iftdfW2V_brute])\n",
    "\n",
    "result.add_row([\"BoW\",\"set5\",\"kdtree\",best_k_bow_kdtree,auc_bow_kdtree])\n",
    "result.add_row([\"TfIdf\",\"set6\",\"kdtree\",best_k_tfidf_kdtree,auc_tfidf_kdtree])\n",
    "result.add_row([\"AvgW2V\",\"set3\",\"kdtree\",best_k_avgW2V_kdtree,auc_avgW2V_kdtree])\n",
    "result.add_row([\"TfIdfW2V\",\"set4\",\"kdtree\",best_k_tfidfW2V_kdtree,auc_tfidfW2V_kdtree])\n",
    "\n",
    "\n",
    "print(result)"
   ]
  },
  {
   "cell_type": "raw",
   "metadata": {},
   "source": [
    "#Observations:\n",
    "#Best performance is obtianed using tfidf and bruteforce KNN\n",
    "# kdtree gives better performance in their respective categories using avgW2V vectorizer\n",
    "#Least performance is shown by both bruteforce and kdtree model using tfidfw2v vectorizer and \n",
    "#interestingly they are giving almost same auc"
   ]
  }
 ],
 "metadata": {
  "colab": {
   "name": "03 Amazon Fine Food Reviews Analysis_KNN.ipynb",
   "provenance": [],
   "version": "0.3.2"
  },
  "kernelspec": {
   "display_name": "Python 3",
   "language": "python",
   "name": "python3"
  },
  "language_info": {
   "codemirror_mode": {
    "name": "ipython",
    "version": 3
   },
   "file_extension": ".py",
   "mimetype": "text/x-python",
   "name": "python",
   "nbconvert_exporter": "python",
   "pygments_lexer": "ipython3",
   "version": "3.7.3"
  }
 },
 "nbformat": 4,
 "nbformat_minor": 1
}
